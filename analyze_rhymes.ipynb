{
 "cells": [
  {
   "cell_type": "markdown",
   "metadata": {},
   "source": [
    "Goal is to detect three types of rhyming techniques: \n",
    "- assonance.\n",
    "- mutli-syllable rhymes.\n",
    "- rhyming schemes. "
   ]
  },
  {
   "cell_type": "markdown",
   "metadata": {},
   "source": [
    "- Read data: \n",
    "Read the lyrics in a list of lines. \n",
    "- preprocessing steps: \n",
    "1. remove special characters. \n",
    "2. remove maningless words? (implement it but keep it open). \n",
    "3. create a vowel representation for each word (assonance detection)\n",
    "4. create a syllable representation of each word (multis detection)"
   ]
  },
  {
   "cell_type": "code",
   "execution_count": 1,
   "metadata": {},
   "outputs": [],
   "source": [
    "import pronouncing\n",
    "import nltk\n",
    "from nltk.corpus import stopwords\n",
    "from rhyme_analytics import *\n",
    "import pandas as pd"
   ]
  },
  {
   "cell_type": "markdown",
   "metadata": {},
   "source": [
    "# Read & Preprocess Data"
   ]
  },
  {
   "cell_type": "markdown",
   "metadata": {},
   "source": [
    "Lyrics of each song will be broken down to list of lines. For each line, extra spaces and special characters will be removed. For each line, a list of words will be generated. "
   ]
  },
  {
   "cell_type": "code",
   "execution_count": 2,
   "metadata": {},
   "outputs": [],
   "source": [
    "diss_tracks = pd.read_csv('diss_tracks.csv')"
   ]
  },
  {
   "cell_type": "code",
   "execution_count": 3,
   "metadata": {},
   "outputs": [
    {
     "data": {
      "text/plain": [
       "Date Released    144\n",
       "Song Title       144\n",
       "Artist(s)        144\n",
       "Target(s)        144\n",
       "Year Released    144\n",
       "lyrics            69\n",
       "dtype: int64"
      ]
     },
     "execution_count": 3,
     "metadata": {},
     "output_type": "execute_result"
    }
   ],
   "source": [
    "diss_tracks.count()"
   ]
  },
  {
   "cell_type": "code",
   "execution_count": 4,
   "metadata": {},
   "outputs": [],
   "source": [
    "diss_tracks_cleaned = diss_tracks.dropna(subset=['lyrics'])"
   ]
  },
  {
   "cell_type": "code",
   "execution_count": 5,
   "metadata": {},
   "outputs": [
    {
     "data": {
      "text/plain": [
       "Date Released    69\n",
       "Song Title       69\n",
       "Artist(s)        69\n",
       "Target(s)        69\n",
       "Year Released    69\n",
       "lyrics           69\n",
       "dtype: int64"
      ]
     },
     "execution_count": 5,
     "metadata": {},
     "output_type": "execute_result"
    }
   ],
   "source": [
    "diss_tracks_cleaned.count()"
   ]
  },
  {
   "cell_type": "code",
   "execution_count": 6,
   "metadata": {},
   "outputs": [
    {
     "name": "stderr",
     "output_type": "stream",
     "text": [
      "C:\\Users\\zohabidi\\AppData\\Local\\Temp\\ipykernel_40284\\4291361658.py:1: SettingWithCopyWarning: \n",
      "A value is trying to be set on a copy of a slice from a DataFrame.\n",
      "Try using .loc[row_indexer,col_indexer] = value instead\n",
      "\n",
      "See the caveats in the documentation: https://pandas.pydata.org/pandas-docs/stable/user_guide/indexing.html#returning-a-view-versus-a-copy\n",
      "  diss_tracks_cleaned['lines'] = \"\"\n",
      "C:\\Users\\zohabidi\\AppData\\Local\\Temp\\ipykernel_40284\\4291361658.py:2: SettingWithCopyWarning: \n",
      "A value is trying to be set on a copy of a slice from a DataFrame.\n",
      "Try using .loc[row_indexer,col_indexer] = value instead\n",
      "\n",
      "See the caveats in the documentation: https://pandas.pydata.org/pandas-docs/stable/user_guide/indexing.html#returning-a-view-versus-a-copy\n",
      "  diss_tracks_cleaned['words'] = \"\"\n"
     ]
    }
   ],
   "source": [
    "diss_tracks_cleaned['lines'] = \"\"\n",
    "diss_tracks_cleaned['words'] = \"\""
   ]
  },
  {
   "cell_type": "code",
   "execution_count": 7,
   "metadata": {},
   "outputs": [],
   "source": [
    "for index,row in diss_tracks_cleaned.iterrows():\n",
    "    if row['lyrics'] is None:\n",
    "        continue\n",
    "    lines,words = [], []\n",
    "    # Iterate over each line in the file\n",
    "    for line in row['lyrics'].split('\\n'):\n",
    "        if len(line) == 0:\n",
    "            continue\n",
    "        line = clean_line(line)\n",
    "        ## remove stopwords not so sure about it. \n",
    "        lines.append(line)\n",
    "        words.extend(line.split())\n",
    "        \n",
    "    diss_tracks_cleaned.at[index,'lines'] = lines\n",
    "    diss_tracks_cleaned.at[index,'words'] = words"
   ]
  },
  {
   "cell_type": "code",
   "execution_count": 8,
   "metadata": {},
   "outputs": [
    {
     "data": {
      "text/html": [
       "<div>\n",
       "<style scoped>\n",
       "    .dataframe tbody tr th:only-of-type {\n",
       "        vertical-align: middle;\n",
       "    }\n",
       "\n",
       "    .dataframe tbody tr th {\n",
       "        vertical-align: top;\n",
       "    }\n",
       "\n",
       "    .dataframe thead th {\n",
       "        text-align: right;\n",
       "    }\n",
       "</style>\n",
       "<table border=\"1\" class=\"dataframe\">\n",
       "  <thead>\n",
       "    <tr style=\"text-align: right;\">\n",
       "      <th></th>\n",
       "      <th>Date Released</th>\n",
       "      <th>Song Title</th>\n",
       "      <th>Artist(s)</th>\n",
       "      <th>Target(s)</th>\n",
       "      <th>Year Released</th>\n",
       "      <th>lyrics</th>\n",
       "      <th>lines</th>\n",
       "      <th>words</th>\n",
       "    </tr>\n",
       "  </thead>\n",
       "  <tbody>\n",
       "    <tr>\n",
       "      <th>0</th>\n",
       "      <td>4-Mar-91</td>\n",
       "      <td>\"Fuck Compton\"</td>\n",
       "      <td>Tim Dog</td>\n",
       "      <td>DJ Quik, Michel'le, N.W.A, Compton, West Coast...</td>\n",
       "      <td>1991</td>\n",
       "      <td>Oh shit mutherfuckas step to the rear and chee...</td>\n",
       "      <td>[Oh shit mutherfuckas step to the rear and che...</td>\n",
       "      <td>[Oh, shit, mutherfuckas, step, to, the, rear, ...</td>\n",
       "    </tr>\n",
       "    <tr>\n",
       "      <th>1</th>\n",
       "      <td>1-May-91</td>\n",
       "      <td>\"Pop Goes the Weasel\"</td>\n",
       "      <td>3rd Bass</td>\n",
       "      <td>Vanilla Ice</td>\n",
       "      <td>1991</td>\n",
       "      <td>Antoine, Antoine's got something here\\r\\nRo-ro...</td>\n",
       "      <td>[Antoine Antoine's got something here, Ro roll...</td>\n",
       "      <td>[Antoine, Antoine's, got, something, here, Ro,...</td>\n",
       "    </tr>\n",
       "    <tr>\n",
       "      <th>3</th>\n",
       "      <td>17-Sep-91</td>\n",
       "      <td>\"Get in the Ring\"</td>\n",
       "      <td>Guns N' Roses</td>\n",
       "      <td>Music critics. Mentioned by name are critics f...</td>\n",
       "      <td>1991</td>\n",
       "      <td>Why do you look at me when you hate me\\r\\nWhy ...</td>\n",
       "      <td>[Why do you look at me when you hate me, Why s...</td>\n",
       "      <td>[Why, do, you, look, at, me, when, you, hate, ...</td>\n",
       "    </tr>\n",
       "    <tr>\n",
       "      <th>4</th>\n",
       "      <td>29-Oct-91</td>\n",
       "      <td>\"No Vaseline\"</td>\n",
       "      <td>Ice Cube</td>\n",
       "      <td>former N.W.A bandmates Eazy-E, Dr. Dre, MC Ren...</td>\n",
       "      <td>1991</td>\n",
       "      <td>Got damn, I'm glad ya'll set it off.\\r\\nUsed t...</td>\n",
       "      <td>[Got damn I'm glad ya'll set it off, Used to b...</td>\n",
       "      <td>[Got, damn, I'm, glad, ya'll, set, it, off, Us...</td>\n",
       "    </tr>\n",
       "    <tr>\n",
       "      <th>5</th>\n",
       "      <td>9-Dec-91</td>\n",
       "      <td>\"Miserablism\"</td>\n",
       "      <td>Pet Shop Boys</td>\n",
       "      <td>Morrissey</td>\n",
       "      <td>1991</td>\n",
       "      <td>It seems to me there's something serious begin...</td>\n",
       "      <td>[It seems to me there's something serious begi...</td>\n",
       "      <td>[It, seems, to, me, there's, something, seriou...</td>\n",
       "    </tr>\n",
       "  </tbody>\n",
       "</table>\n",
       "</div>"
      ],
      "text/plain": [
       "  Date Released             Song Title      Artist(s)  \\\n",
       "0      4-Mar-91         \"Fuck Compton\"        Tim Dog   \n",
       "1      1-May-91  \"Pop Goes the Weasel\"       3rd Bass   \n",
       "3     17-Sep-91      \"Get in the Ring\"  Guns N' Roses   \n",
       "4     29-Oct-91          \"No Vaseline\"       Ice Cube   \n",
       "5      9-Dec-91          \"Miserablism\"  Pet Shop Boys   \n",
       "\n",
       "                                           Target(s) Year Released  \\\n",
       "0  DJ Quik, Michel'le, N.W.A, Compton, West Coast...          1991   \n",
       "1                                        Vanilla Ice          1991   \n",
       "3  Music critics. Mentioned by name are critics f...          1991   \n",
       "4  former N.W.A bandmates Eazy-E, Dr. Dre, MC Ren...          1991   \n",
       "5                                          Morrissey          1991   \n",
       "\n",
       "                                              lyrics  \\\n",
       "0  Oh shit mutherfuckas step to the rear and chee...   \n",
       "1  Antoine, Antoine's got something here\\r\\nRo-ro...   \n",
       "3  Why do you look at me when you hate me\\r\\nWhy ...   \n",
       "4  Got damn, I'm glad ya'll set it off.\\r\\nUsed t...   \n",
       "5  It seems to me there's something serious begin...   \n",
       "\n",
       "                                               lines  \\\n",
       "0  [Oh shit mutherfuckas step to the rear and che...   \n",
       "1  [Antoine Antoine's got something here, Ro roll...   \n",
       "3  [Why do you look at me when you hate me, Why s...   \n",
       "4  [Got damn I'm glad ya'll set it off, Used to b...   \n",
       "5  [It seems to me there's something serious begi...   \n",
       "\n",
       "                                               words  \n",
       "0  [Oh, shit, mutherfuckas, step, to, the, rear, ...  \n",
       "1  [Antoine, Antoine's, got, something, here, Ro,...  \n",
       "3  [Why, do, you, look, at, me, when, you, hate, ...  \n",
       "4  [Got, damn, I'm, glad, ya'll, set, it, off, Us...  \n",
       "5  [It, seems, to, me, there's, something, seriou...  "
      ]
     },
     "execution_count": 8,
     "metadata": {},
     "output_type": "execute_result"
    }
   ],
   "source": [
    "diss_tracks_cleaned.head()"
   ]
  },
  {
   "cell_type": "markdown",
   "metadata": {},
   "source": [
    "# Multi Rhyming Syllables"
   ]
  },
  {
   "cell_type": "markdown",
   "metadata": {},
   "source": [
    "## Phonetic Representation"
   ]
  },
  {
   "cell_type": "markdown",
   "metadata": {},
   "source": [
    "Rhyming words do not end necessarily with the same letters, their endings are pronounced the same. Syllables are the building blocks of words. To reflect how a word is pronounced, we will refer to the phonetic representation of each syllable. A rhyme is detected when two phonetic representations of two syllables are \"very\" similar (Their similarity is above a specific threshold)."
   ]
  },
  {
   "cell_type": "code",
   "execution_count": 9,
   "metadata": {},
   "outputs": [
    {
     "name": "stdout",
     "output_type": "stream",
     "text": [
      "syllables of word Winter are ['Win', 'ter']\n"
     ]
    }
   ],
   "source": [
    "# example on how to get syllables\n",
    "word = 'Winter'\n",
    "syllables = dic.inserted(word).split('-')\n",
    "\n",
    "print(f\"syllables of word {word} are {syllables}\")"
   ]
  },
  {
   "cell_type": "code",
   "execution_count": 10,
   "metadata": {},
   "outputs": [
    {
     "name": "stdout",
     "output_type": "stream",
     "text": [
      "AN TR\n"
     ]
    }
   ],
   "source": [
    "# example on phonetic representation\n",
    "print(phonetics.metaphone('Win'),phonetics.metaphone('ter'))"
   ]
  },
  {
   "cell_type": "code",
   "execution_count": 11,
   "metadata": {},
   "outputs": [
    {
     "data": {
      "text/plain": [
       "(['Cold', 'Win', 'ter', 'Day'], ['KLT', 'AN', 'TR', 'T'])"
      ]
     },
     "execution_count": 11,
     "metadata": {},
     "output_type": "execute_result"
    }
   ],
   "source": [
    "# the following function given a string returns a tuple of two lists: the first list is the list of syllables\n",
    "# and the second list is the list of phonetic representation of the syllables. \n",
    "create_phonetic_syllable_represtation(\"Cold Winter Day\")"
   ]
  },
  {
   "cell_type": "code",
   "execution_count": 12,
   "metadata": {},
   "outputs": [
    {
     "data": {
      "text/plain": [
       "(['gold', 'win', 'ners', 'play'], ['KLT', 'AN', 'NRS', 'PL'])"
      ]
     },
     "execution_count": 12,
     "metadata": {},
     "output_type": "execute_result"
    }
   ],
   "source": [
    "create_phonetic_syllable_represtation(\"gold winners play\")"
   ]
  },
  {
   "cell_type": "markdown",
   "metadata": {},
   "source": [
    "The logic behind detecting multi syllable rhymes works as following: \n",
    "- for each syllable in the current line, we check all remaining syllables. When we detect a similar syllable we add an extension. The extension means that we start looking into the next syllables after the first match, if they also match. We continue adding matches until we cannot find matching syllables. \n",
    "- A multi rhyme is added if it contains two syllables or more. "
   ]
  },
  {
   "cell_type": "code",
   "execution_count": 13,
   "metadata": {},
   "outputs": [
    {
     "data": {
      "text/plain": [
       "[(['KLT', 'AN', 'TR', 'T'], ['KLT', 'AN', 'NRS', 'PL'])]"
      ]
     },
     "execution_count": 13,
     "metadata": {},
     "output_type": "execute_result"
    }
   ],
   "source": [
    "_,current_line_syllables_ph=create_phonetic_syllable_represtation(\"Cold Winter Day\")\n",
    "_,next_line_syllables_ph=create_phonetic_syllable_represtation(\"gold winners play\")\n",
    "detect_multi_rhymes(current_line_syllables_ph, next_line_syllables_ph)"
   ]
  },
  {
   "cell_type": "markdown",
   "metadata": {},
   "source": [
    "## Multi Rhyme Score"
   ]
  },
  {
   "cell_type": "markdown",
   "metadata": {},
   "source": [
    "Writing multi rhymes is an ultimate skill in rapping and difficult to pull off. That's why the more rhyming syllables, a song has, the higher should be the score. Considering the fact that songs have different length, the score will be normalised on the number of song lines. "
   ]
  },
  {
   "cell_type": "code",
   "execution_count": 14,
   "metadata": {},
   "outputs": [
    {
     "data": {
      "text/plain": [
       "(32, 2.0, 1.9523809523809523)"
      ]
     },
     "execution_count": 14,
     "metadata": {},
     "output_type": "execute_result"
    }
   ],
   "source": [
    "# As an example, we will compute the multi rhyme score for the first song. \n",
    "lines = diss_tracks_cleaned['lines'][0]\n",
    "multi_rhymes = detect_song_multi_rhymes(lines) \n",
    "compute_multi_rhyme_analytics(multi_rhymes, len(lines))"
   ]
  },
  {
   "cell_type": "code",
   "execution_count": 15,
   "metadata": {},
   "outputs": [
    {
     "name": "stderr",
     "output_type": "stream",
     "text": [
      "C:\\Users\\zohabidi\\AppData\\Local\\Temp\\ipykernel_40284\\731128998.py:1: SettingWithCopyWarning: \n",
      "A value is trying to be set on a copy of a slice from a DataFrame.\n",
      "Try using .loc[row_indexer,col_indexer] = value instead\n",
      "\n",
      "See the caveats in the documentation: https://pandas.pydata.org/pandas-docs/stable/user_guide/indexing.html#returning-a-view-versus-a-copy\n",
      "  diss_tracks_cleaned['multi_rhyme_score'] = 0\n"
     ]
    }
   ],
   "source": [
    "diss_tracks_cleaned['multi_rhyme_score'] = 0"
   ]
  },
  {
   "cell_type": "code",
   "execution_count": 16,
   "metadata": {},
   "outputs": [
    {
     "name": "stderr",
     "output_type": "stream",
     "text": [
      "C:\\Users\\zohabidi\\AppData\\Local\\Temp\\ipykernel_40284\\2446724148.py:5: FutureWarning: Setting an item of incompatible dtype is deprecated and will raise an error in a future version of pandas. Value '1.9523809523809523' has dtype incompatible with int64, please explicitly cast to a compatible dtype first.\n",
      "  diss_tracks_cleaned.at[index,'multi_rhyme_score'] = multi_rhyme_score\n"
     ]
    }
   ],
   "source": [
    "for index, row in diss_tracks_cleaned.iterrows():\n",
    "    lines = row['lines']\n",
    "    multi_rhymes = detect_song_multi_rhymes(lines) \n",
    "    number_multi_rhymes, average_len_multi_rhymes, multi_rhyme_score = compute_multi_rhyme_analytics(multi_rhymes, len(lines))\n",
    "    diss_tracks_cleaned.at[index,'multi_rhyme_score'] = multi_rhyme_score"
   ]
  },
  {
   "cell_type": "code",
   "execution_count": 17,
   "metadata": {},
   "outputs": [
    {
     "data": {
      "text/html": [
       "<div>\n",
       "<style scoped>\n",
       "    .dataframe tbody tr th:only-of-type {\n",
       "        vertical-align: middle;\n",
       "    }\n",
       "\n",
       "    .dataframe tbody tr th {\n",
       "        vertical-align: top;\n",
       "    }\n",
       "\n",
       "    .dataframe thead th {\n",
       "        text-align: right;\n",
       "    }\n",
       "</style>\n",
       "<table border=\"1\" class=\"dataframe\">\n",
       "  <thead>\n",
       "    <tr style=\"text-align: right;\">\n",
       "      <th></th>\n",
       "      <th>Date Released</th>\n",
       "      <th>Song Title</th>\n",
       "      <th>Artist(s)</th>\n",
       "      <th>Target(s)</th>\n",
       "      <th>Year Released</th>\n",
       "      <th>lyrics</th>\n",
       "      <th>lines</th>\n",
       "      <th>words</th>\n",
       "      <th>multi_rhyme_score</th>\n",
       "    </tr>\n",
       "  </thead>\n",
       "  <tbody>\n",
       "    <tr>\n",
       "      <th>0</th>\n",
       "      <td>4-Mar-91</td>\n",
       "      <td>\"Fuck Compton\"</td>\n",
       "      <td>Tim Dog</td>\n",
       "      <td>DJ Quik, Michel'le, N.W.A, Compton, West Coast...</td>\n",
       "      <td>1991</td>\n",
       "      <td>Oh shit mutherfuckas step to the rear and chee...</td>\n",
       "      <td>[Oh shit mutherfuckas step to the rear and che...</td>\n",
       "      <td>[Oh, shit, mutherfuckas, step, to, the, rear, ...</td>\n",
       "      <td>1.952381</td>\n",
       "    </tr>\n",
       "    <tr>\n",
       "      <th>1</th>\n",
       "      <td>1-May-91</td>\n",
       "      <td>\"Pop Goes the Weasel\"</td>\n",
       "      <td>3rd Bass</td>\n",
       "      <td>Vanilla Ice</td>\n",
       "      <td>1991</td>\n",
       "      <td>Antoine, Antoine's got something here\\r\\nRo-ro...</td>\n",
       "      <td>[Antoine Antoine's got something here, Ro roll...</td>\n",
       "      <td>[Antoine, Antoine's, got, something, here, Ro,...</td>\n",
       "      <td>2.177215</td>\n",
       "    </tr>\n",
       "    <tr>\n",
       "      <th>3</th>\n",
       "      <td>17-Sep-91</td>\n",
       "      <td>\"Get in the Ring\"</td>\n",
       "      <td>Guns N' Roses</td>\n",
       "      <td>Music critics. Mentioned by name are critics f...</td>\n",
       "      <td>1991</td>\n",
       "      <td>Why do you look at me when you hate me\\r\\nWhy ...</td>\n",
       "      <td>[Why do you look at me when you hate me, Why s...</td>\n",
       "      <td>[Why, do, you, look, at, me, when, you, hate, ...</td>\n",
       "      <td>1.269841</td>\n",
       "    </tr>\n",
       "    <tr>\n",
       "      <th>4</th>\n",
       "      <td>29-Oct-91</td>\n",
       "      <td>\"No Vaseline\"</td>\n",
       "      <td>Ice Cube</td>\n",
       "      <td>former N.W.A bandmates Eazy-E, Dr. Dre, MC Ren...</td>\n",
       "      <td>1991</td>\n",
       "      <td>Got damn, I'm glad ya'll set it off.\\r\\nUsed t...</td>\n",
       "      <td>[Got damn I'm glad ya'll set it off, Used to b...</td>\n",
       "      <td>[Got, damn, I'm, glad, ya'll, set, it, off, Us...</td>\n",
       "      <td>1.766667</td>\n",
       "    </tr>\n",
       "    <tr>\n",
       "      <th>5</th>\n",
       "      <td>9-Dec-91</td>\n",
       "      <td>\"Miserablism\"</td>\n",
       "      <td>Pet Shop Boys</td>\n",
       "      <td>Morrissey</td>\n",
       "      <td>1991</td>\n",
       "      <td>It seems to me there's something serious begin...</td>\n",
       "      <td>[It seems to me there's something serious begi...</td>\n",
       "      <td>[It, seems, to, me, there's, something, seriou...</td>\n",
       "      <td>4.513514</td>\n",
       "    </tr>\n",
       "  </tbody>\n",
       "</table>\n",
       "</div>"
      ],
      "text/plain": [
       "  Date Released             Song Title      Artist(s)  \\\n",
       "0      4-Mar-91         \"Fuck Compton\"        Tim Dog   \n",
       "1      1-May-91  \"Pop Goes the Weasel\"       3rd Bass   \n",
       "3     17-Sep-91      \"Get in the Ring\"  Guns N' Roses   \n",
       "4     29-Oct-91          \"No Vaseline\"       Ice Cube   \n",
       "5      9-Dec-91          \"Miserablism\"  Pet Shop Boys   \n",
       "\n",
       "                                           Target(s) Year Released  \\\n",
       "0  DJ Quik, Michel'le, N.W.A, Compton, West Coast...          1991   \n",
       "1                                        Vanilla Ice          1991   \n",
       "3  Music critics. Mentioned by name are critics f...          1991   \n",
       "4  former N.W.A bandmates Eazy-E, Dr. Dre, MC Ren...          1991   \n",
       "5                                          Morrissey          1991   \n",
       "\n",
       "                                              lyrics  \\\n",
       "0  Oh shit mutherfuckas step to the rear and chee...   \n",
       "1  Antoine, Antoine's got something here\\r\\nRo-ro...   \n",
       "3  Why do you look at me when you hate me\\r\\nWhy ...   \n",
       "4  Got damn, I'm glad ya'll set it off.\\r\\nUsed t...   \n",
       "5  It seems to me there's something serious begin...   \n",
       "\n",
       "                                               lines  \\\n",
       "0  [Oh shit mutherfuckas step to the rear and che...   \n",
       "1  [Antoine Antoine's got something here, Ro roll...   \n",
       "3  [Why do you look at me when you hate me, Why s...   \n",
       "4  [Got damn I'm glad ya'll set it off, Used to b...   \n",
       "5  [It seems to me there's something serious begi...   \n",
       "\n",
       "                                               words  multi_rhyme_score  \n",
       "0  [Oh, shit, mutherfuckas, step, to, the, rear, ...           1.952381  \n",
       "1  [Antoine, Antoine's, got, something, here, Ro,...           2.177215  \n",
       "3  [Why, do, you, look, at, me, when, you, hate, ...           1.269841  \n",
       "4  [Got, damn, I'm, glad, ya'll, set, it, off, Us...           1.766667  \n",
       "5  [It, seems, to, me, there's, something, seriou...           4.513514  "
      ]
     },
     "execution_count": 17,
     "metadata": {},
     "output_type": "execute_result"
    }
   ],
   "source": [
    "diss_tracks_cleaned.head()"
   ]
  },
  {
   "cell_type": "markdown",
   "metadata": {},
   "source": [
    "# Assonance"
   ]
  },
  {
   "cell_type": "markdown",
   "metadata": {},
   "source": [
    "## Vowel Representation"
   ]
  },
  {
   "cell_type": "markdown",
   "metadata": {},
   "source": [
    "Assonance is a technique of repeating vowel sounds within a line or lines of lyrics. Words do not necessarily share the same ending but they share the same vowel sound at the end. Detecting Assonance, starts by creating a vowel representation for each word. We get this representation by eliminating all the characters of a word from the end till the last vowel. Similar to mutli rhyme detection we will process words of a song line by line. For each line, we will check next words of current line + next line. "
   ]
  },
  {
   "cell_type": "markdown",
   "metadata": {},
   "source": [
    "Eminem is known for heavily using assonance in his bars. We will analyze two bars from his song Lose Yourself:\n",
    "“His palms are sweaty, knees weak, arms are heavy\n",
    "There’s vomit on his sweater already, mom’s spaghetti“"
   ]
  },
  {
   "cell_type": "code",
   "execution_count": 18,
   "metadata": {},
   "outputs": [
    {
     "data": {
      "text/plain": [
       "['hi', 'pa', 'are', 'swea', 'knee', 'wea', 'a', 'are', 'hea']"
      ]
     },
     "execution_count": 18,
     "metadata": {},
     "output_type": "execute_result"
    }
   ],
   "source": [
    "cut_at_last_vowel(\"His palms are sweaty knees weak arms are heavy\")"
   ]
  },
  {
   "cell_type": "code",
   "execution_count": 19,
   "metadata": {},
   "outputs": [
    {
     "data": {
      "text/plain": [
       "['there', 'i', 'vomi', 'o', 'hi', 'sweate', 'alrea', 'mo', 'spaghetti']"
      ]
     },
     "execution_count": 19,
     "metadata": {},
     "output_type": "execute_result"
    }
   ],
   "source": [
    "cut_at_last_vowel(\"There is vomit on his sweater already moms spaghetti\")"
   ]
  },
  {
   "cell_type": "code",
   "execution_count": 20,
   "metadata": {},
   "outputs": [
    {
     "data": {
      "text/plain": [
       "([['vomi', 'spaghetti', 'hi', 'i'],\n",
       "  ['pa', 'swea', 'wea', 'alrea', 'a', 'hea'],\n",
       "  ['knee', 'there', 'are', 'sweate']],\n",
       " {'A': {0: ['pa', 'swea', 'wea', 'a', 'hea'], 1: ['alrea']},\n",
       "  'O': {0: [], 1: []},\n",
       "  'E': {0: ['knee', 'are'], 1: ['sweate', 'there']},\n",
       "  'I': {0: ['hi'], 1: ['vomi', 'spaghetti', 'hi', 'i']},\n",
       "  'U': {0: [], 1: []}})"
      ]
     },
     "execution_count": 20,
     "metadata": {},
     "output_type": "execute_result"
    }
   ],
   "source": [
    "current_line_vowel_repr = cut_at_last_vowel(\"His palms are sweaty knees weak arms are heavy\")\n",
    "next_line_vowel_repr = cut_at_last_vowel(\"There is vomit on his sweater already moms spaghetti\")\n",
    "\n",
    "detect_assonance(current_line_vowel_repr, next_line_vowel_repr,0)"
   ]
  },
  {
   "cell_type": "markdown",
   "metadata": {},
   "source": [
    "## Assonance Score"
   ]
  },
  {
   "cell_type": "markdown",
   "metadata": {},
   "source": [
    "Assonance is a powerful tool in songwriting that blends words together. An Assonance score is higher the more vowels you use and the more words you use from each vowel. Considering the fact that songs have different length, the score will be normalised on the number of song lines. "
   ]
  },
  {
   "cell_type": "code",
   "execution_count": 21,
   "metadata": {},
   "outputs": [],
   "source": [
    "assonances,vowels_dict = detect_song_assonance(lines)"
   ]
  },
  {
   "cell_type": "code",
   "execution_count": 22,
   "metadata": {},
   "outputs": [
    {
     "data": {
      "text/plain": [
       "{0: [['tha', 'yoshinoya'],\n",
       "  ['brothe', 'like'],\n",
       "  ['kno', 'do'],\n",
       "  ['stu', 'arou', 'you'],\n",
       "  ['i']],\n",
       " 1: [['mountai', 'i'],\n",
       "  ['arou', 'stu'],\n",
       "  ['stone', 'the', 'caste', 'like'],\n",
       "  ['a', 'rea', 'yoshinoya']],\n",
       " 2: [['stone', 'the', 'caste', 'life'],\n",
       "  ['mountai', 'thi', 'i'],\n",
       "  ['a', 'rea'],\n",
       "  ['enjo', 'co']],\n",
       " 3: [['thi', 'i'], ['the', 'life'], ['mu', 'bu'], ['enjo', 'fo']],\n",
       " 4: [['thi', 'i'],\n",
       "  ['the', 'we', 'life'],\n",
       "  ['mu', 'bu'],\n",
       "  ['ho', 'do', 'go', 'fo']],\n",
       " 5: [['suppose', 'where', \"you're\", 'we'],\n",
       "  ['ho', 'to', 'go', 'do', 'bo'],\n",
       "  ['a', 'forwa', 'ba', 'sta'],\n",
       "  ['mu', 'you']],\n",
       " 6: [['a', 'sta', 'nigga'],\n",
       "  ['ignore', \"you're\", 'suppose', 'where', 'fake'],\n",
       "  ['wo', 'to', 'bo']],\n",
       " 7: [['nigga', 'sea'], ['i'], ['ignore', 'the', 'fake'], ['wo', 'bo']],\n",
       " 8: [['bi', 'i'], ['you', 'pu'], ['bo', 'go'], ['the', 'stree']],\n",
       " 9: [['you'], ['bi', 'i'], ['the', 'stree', 'whe']],\n",
       " 10: [['i'], ['wa', 'ea', 'ha', 'wanna'], ['the', 'handle', 'ke', 'whe']],\n",
       " 11: [['i'], ['kno', 'do', 'no'], ['one', 'the', 'handle', 'ke']],\n",
       " 12: [['o', 'kno', 'do', 'no'], ['one', 'me', 'the', 'depende']],\n",
       " 13: [['me', 'the', 'where', 'depende'], ['o', 'kno', 'do']],\n",
       " 14: [['a', 'nigga'],\n",
       "  ['o', 'kno', 'do'],\n",
       "  ['the', 'where', 'house'],\n",
       "  ['fi', 'i']],\n",
       " 15: [['fi', 'ai', 'i'],\n",
       "  ['arou', 'you'],\n",
       "  ['people', 'the', 'house'],\n",
       "  ['a', 'sla']],\n",
       " 16: [['people', 'the', 'whe'],\n",
       "  ['arou', 'you'],\n",
       "  ['plotti', 'ai'],\n",
       "  ['sla', 'ha']],\n",
       " 17: [['the', 'whe'],\n",
       "  ['plotti', 'i'],\n",
       "  ['ba', 'a', 'sla', 'ha'],\n",
       "  ['gu', 'you']],\n",
       " 18: [['go', 'who'],\n",
       "  ['a', 'ba'],\n",
       "  ['you', 'gu', 'tru'],\n",
       "  ['ni', 'sleepi', 'thi', 'i']],\n",
       " 19: [['ni', 'sleepi', 'thi', 'i'],\n",
       "  ['loo', 'mirro', 'who'],\n",
       "  ['you', 'tru'],\n",
       "  ['a', 'wha']],\n",
       " 20: [['ri', 'i'], ['loo', 'mirro'], ['see', 'the', 'like', 'whe'], ['wha']],\n",
       " 21: [['wi', 'ri', 'ki', 'i'], ['life', 'whe']],\n",
       " 22: [['fu', 'you'],\n",
       "  ['fucki', 'wi', 'ki', 'i'],\n",
       "  ['these', 'hoe', 'wife', 'life']],\n",
       " 23: [['fucki', 'i'], ['wife', 'like', 'sile', 'hoe', 'these', 'knife']],\n",
       " 24: [['wo', 'do', 'no'], ['knife', 'he', 'like', 'sile']],\n",
       " 25: [['mi', 'thi', 'i'], ['he', 'like'], ['wo', 'do']],\n",
       " 26: [['i'], ['tha', 'gotta', 'wha'], ['wo', 'do']],\n",
       " 27: [['i'], ['tha', 'gotta'], ['kno', 'wo', 'do']],\n",
       " 28: [['tha', 'yoshinoya'], ['kno', 'do', 'fro']],\n",
       " 29: [['fro', 'co'], ['a', 'rea', 'yoshinoya']],\n",
       " 30: [['stone', 'the', 'caste', 'life'],\n",
       "  ['mountai', 'thi', 'i'],\n",
       "  ['a', 'rea'],\n",
       "  ['enjo', 'co']],\n",
       " 31: [['thi', 'i'], ['the', 'life'], ['mu', 'bu'], ['enjo', 'fo']],\n",
       " 32: [['thi', 'i'],\n",
       "  ['the', 'we', 'life'],\n",
       "  ['mu', 'bu'],\n",
       "  ['ho', 'do', 'go', 'fo']],\n",
       " 33: [['suppose', 'where', \"you're\", 'we'],\n",
       "  ['ho', 'to', 'go', 'do', 'bo'],\n",
       "  ['a', 'forwa', 'ba', 'sta'],\n",
       "  ['mu', 'you']],\n",
       " 34: [['a', 'sta', 'nigga'],\n",
       "  ['ignore', \"you're\", 'suppose', 'where', 'fake'],\n",
       "  ['wo', 'to', 'bo']],\n",
       " 35: [['a', 'nigga', 'hea'],\n",
       "  ['thi', 'i'],\n",
       "  ['ignore', 'code', 'fake', 're'],\n",
       "  ['o', 'wo', 'fo']],\n",
       " 36: [['thi', 'i'],\n",
       "  ['a', 'hea'],\n",
       "  ['code', 'neve', 'like', 're'],\n",
       "  ['o', 'sho', 'who', 'fo']],\n",
       " 37: [['o', 'sho', 'to', 'who'],\n",
       "  ['bee', 'the', 'like', 'neve', 'since', 'he', 'minute'],\n",
       "  ['a', 'ha', 'notepa']],\n",
       " 38: [['bee', 'the', 'have', 'since', 'life', 'he', 'minute'],\n",
       "  ['wa', 'tha', 'nigga', 'a', 'ha', 'notepa'],\n",
       "  ['o', 'to', 'do'],\n",
       "  ['fi', 'buildi', 'i']],\n",
       " 39: [['ai', 'buildi', 'i'],\n",
       "  ['wa', 'ba', 'tha', 'nigga'],\n",
       "  ['u', 'bu', 'you'],\n",
       "  ['the', 'make', 'have', 'lone', 'mone', 'life', 'me'],\n",
       "  ['so', 'do', 'to']],\n",
       " 40: [['so', 'to'],\n",
       "  ['make', 'joke', 'lone', 'mone', 'me', 'are'],\n",
       "  ['tha', 'da', 'ba', 'nigga'],\n",
       "  ['ai', 'i']],\n",
       " 41: [['da', 'a', 'nigga'],\n",
       "  ['see', 'the', 'joke', 'have', 'are'],\n",
       "  ['so', 'mo']],\n",
       " 42: [['neede', 'see', 'the', 'some', 'have', 'apple'],\n",
       "  ['thei', 'i'],\n",
       "  ['to', 'so', 'sto', 'mo'],\n",
       "  ['a', 'fa']],\n",
       " 43: [['fro', 'so', 'sto', 'to'],\n",
       "  ['neede', 'the', 'take', 'some', 'apple', 'e', \"'e\", 'he', 'wante'],\n",
       "  ['bu', 'stu'],\n",
       "  ['a', 'ba', 'fa'],\n",
       "  ['poi', 'i']],\n",
       " 44: [['hi', 'poi', 'i'],\n",
       "  ['fro', 'to', 'no'],\n",
       "  ['the', 'take', 'caree', 'e', \"'e\", 'he', 'wante'],\n",
       "  ['a', 'ba']],\n",
       " 45: [['no', 'co'],\n",
       "  ['comi', 'hi', 'i'],\n",
       "  ['these', 'rappe', 'the', 'caree'],\n",
       "  ['a', 'cospla'],\n",
       "  ['indu', 'blu']],\n",
       " 46: [['people', 'the', 'these', 'rappe', 'me'],\n",
       "  ['fa', 'trauma', 'cospla', 'gotta', 'a'],\n",
       "  ['indu'],\n",
       "  ['comi', 'evi'],\n",
       "  ['bo', 'co']],\n",
       " 47: [['people', 'the', 'like', 'drive', 'me'],\n",
       "  ['a', 'gotta', 'trauma', 'fa'],\n",
       "  ['autobo', 'bo']],\n",
       " 48: [['the', 'like', 'drive', 'whore']],\n",
       " 49: [['di', 'clari', 'integri', 'i'],\n",
       "  ['apologize', 'whore'],\n",
       "  ['mea', 'wha', 'sa']],\n",
       " 50: [['writte', 'apologize', 'stone'], ['di', 'clari', 'i']],\n",
       " 51: [['i'], ['stone', 'alone', 'writte', 'leave']],\n",
       " 52: [['a', 'frea'],\n",
       "  ['li', 'i'],\n",
       "  ['the', 'le', 'come', 'alone', 'give', 'time', 'leave']],\n",
       " 53: [['the', 'le', 'come', 'give', 'time', \"'e\"], ['li', 'i'], ['u', 'tru']],\n",
       " 54: [['le', \"'e\", 'he', 'like'], ['wa', 'da', 'ca', 'nigga']],\n",
       " 55: [['wa', 'tha', 'da', 'ha', 'nigga'],\n",
       "  ['thei', 'ri', 'peepi', 'mi'],\n",
       "  ['the', 'ne', 'like', 'have', 'rathe', 'he']],\n",
       " 56: [['the', 'ne', 'wife', 'die', 'have', 'rathe'],\n",
       "  ['o', 'foo', 'goo'],\n",
       "  ['thei', 'mi', 'wi'],\n",
       "  ['tha', 'ma', 'ba', 'a', 'ha']],\n",
       " 57: [['wife',\n",
       "   'like',\n",
       "   'die',\n",
       "   \"they're\",\n",
       "   'hype',\n",
       "   'these',\n",
       "   'rathe',\n",
       "   'me',\n",
       "   'sticke'],\n",
       "  ['ma', 'ba', 'a', 'bea', 'nigga'],\n",
       "  ['goo', 'almo'],\n",
       "  ['dressi', 'wi']],\n",
       " 58: [['piece',\n",
       "   'the',\n",
       "   'like',\n",
       "   'milkshake',\n",
       "   \"they're\",\n",
       "   'hype',\n",
       "   'these',\n",
       "   'use',\n",
       "   'ge',\n",
       "   'me',\n",
       "   'sticke'],\n",
       "  ['a', 'bea', 'pea', 'nigga'],\n",
       "  ['to', 'almo'],\n",
       "  ['dressi', 'ei']],\n",
       " 59: [['piece', 'the', 'name', 'milkshake', 'white', 'use', 'peace', 'ge'],\n",
       "  ['o', 'to', 'bo', 'fo'],\n",
       "  ['a', 'pea'],\n",
       "  ['di', 'fai', 'ei', 'throwi']],\n",
       " 60: [['the', 'name', 'che', 'white', 'murde', 'e', 'peace', 'leave'],\n",
       "  ['o', 'bo', 'fo'],\n",
       "  ['di', 'pai', 'fai', 'throwi']],\n",
       " 61: [['che', 'knowledge', 'murde', 'e', 'curse', 'leave'],\n",
       "  ['tha', 'a', 'dea'],\n",
       "  ['pai', 'wi', 'i'],\n",
       "  ['you']],\n",
       " 62: [['wildi', 'wi', 'sai', 'i'],\n",
       "  ['knowledge', 'the', 'curse'],\n",
       "  ['bu', 'you', 'pu', 'clou'],\n",
       "  ['tha', 'a', 'ha', 'woma']],\n",
       " 63: [['bu', 'clou', 'pu'],\n",
       "  ['the', 'before'],\n",
       "  ['sauna', 'woma', 'a', 'ha', 'dea'],\n",
       "  ['o', 'fo'],\n",
       "  ['wildi', 'sai', 'i']],\n",
       " 64: [['sauna', 'dea'], ['keke', 'the', 'palme', 'like', 'before']],\n",
       " 65: [['o', 'to', 'mo'], ['keke', 'the', 'palme', 'like', 'tyle', 'me']],\n",
       " 66: [['allergi', 'shi', 'thi', 'i'],\n",
       "  ['to'],\n",
       "  ['me', 'the', 'tyle'],\n",
       "  ['a', 'drama', 'ra', 'sa']],\n",
       " 67: [['shi', 'allergi', 'thi', 'i', 'writi'],\n",
       "  ['so', 'to', 'captio'],\n",
       "  ['a', 'ra']],\n",
       " 68: [['the', 'spe', 'se', 'more', 'time', 'made'],\n",
       "  ['tha', 'a', 'ca'],\n",
       "  ['o', 'acto', 'so', 'captio'],\n",
       "  ['bu', 'you', 'pu'],\n",
       "  ['writi', 'i']],\n",
       " 69: [['i'],\n",
       "  ['tha', 'a', 'ca'],\n",
       "  ['o', 'acto', 'actio'],\n",
       "  ['abou', 'you', 'pu']],\n",
       " 70: [['cappi', 'i'], ['tha', 'a', 'nigga', 'sa']],\n",
       " 71: [['twee', 'these', 'stalke', 'case', 'we', 'lowe'],\n",
       "  ['a', 'nigga', 'sa'],\n",
       "  ['ai', 'cappi', 'dappi', 'sai', 'homegi', 'i']],\n",
       " 72: [['ai', 'dappi', 'homegi', 'sai', 'i'],\n",
       "  ['stalke', 'see', 'happene', 'we'],\n",
       "  ['a', 'ma', 'wha']],\n",
       " 73: [['overtaki', 'ai', 'i'],\n",
       "  ['see', 'the', 'happene'],\n",
       "  ['you', 'ou'],\n",
       "  ['sta', 'era', 'ma', 'a', 'wha']],\n",
       " 74: [['wa', 'ca', 'sta', 'era', 'ma', 'a'],\n",
       "  ['the', 'close', 'favorite', 'some', 'made'],\n",
       "  ['so', 'to', 'spo', 'blo'],\n",
       "  ['i', 'overtaki'],\n",
       "  [\"'bou\", 'ou']],\n",
       " 75: [['some', 'made', 'close', 'favorite'],\n",
       "  ['to', 'so', 'do', 'spo', 'o'],\n",
       "  ['wa', 'ca', 'ea', 'ba', 'a', 'nigga'],\n",
       "  ['bi', 'di', 'i']],\n",
       " 76: [['bi', 'di'],\n",
       "  ['kha', 'ea', 'chaka', 'ba', 'a', 'nigga', 'hea'],\n",
       "  ['o', 'do']],\n",
       " 77: [['the', 'neve', 'are', \"you've\"],\n",
       "  ['chaka', 'kha', 'wha', 'hea'],\n",
       "  ['o', 'schoo']]}"
      ]
     },
     "execution_count": 22,
     "metadata": {},
     "output_type": "execute_result"
    }
   ],
   "source": [
    "assonances"
   ]
  },
  {
   "cell_type": "code",
   "execution_count": 23,
   "metadata": {},
   "outputs": [
    {
     "data": {
      "text/plain": [
       "{'A': {0: ['tha'],\n",
       "  1: ['yoshinoya'],\n",
       "  2: ['a', 'rea'],\n",
       "  3: [],\n",
       "  4: [],\n",
       "  5: ['forwa', 'ba'],\n",
       "  6: ['a', 'sta'],\n",
       "  7: ['nigga'],\n",
       "  8: ['sea'],\n",
       "  9: [],\n",
       "  10: ['wa', 'ea', 'ha'],\n",
       "  11: ['wanna'],\n",
       "  12: [],\n",
       "  13: [],\n",
       "  14: ['a', 'nigga'],\n",
       "  15: ['a'],\n",
       "  16: ['sla'],\n",
       "  17: ['sla', 'ha'],\n",
       "  18: ['a', 'ba'],\n",
       "  19: ['a'],\n",
       "  20: ['wha'],\n",
       "  21: ['wha'],\n",
       "  22: [],\n",
       "  23: [],\n",
       "  24: [],\n",
       "  25: [],\n",
       "  26: ['gotta', 'wha'],\n",
       "  27: ['tha', 'gotta'],\n",
       "  28: ['tha'],\n",
       "  29: ['yoshinoya'],\n",
       "  30: ['a', 'rea'],\n",
       "  31: [],\n",
       "  32: [],\n",
       "  33: ['forwa', 'ba'],\n",
       "  34: ['a', 'sta'],\n",
       "  35: ['nigga'],\n",
       "  36: ['a', 'hea'],\n",
       "  37: ['a'],\n",
       "  38: ['a', 'ha', 'notepa'],\n",
       "  39: ['wa', 'tha', 'nigga'],\n",
       "  40: ['tha', 'ba'],\n",
       "  41: ['da', 'nigga'],\n",
       "  42: ['a'],\n",
       "  43: ['a', 'fa'],\n",
       "  44: ['ba'],\n",
       "  45: ['a'],\n",
       "  46: ['cospla'],\n",
       "  47: ['fa', 'trauma', 'gotta', 'a'],\n",
       "  48: [],\n",
       "  49: ['mea', 'wha', 'sa'],\n",
       "  50: [],\n",
       "  51: [],\n",
       "  52: ['a', 'frea'],\n",
       "  53: [],\n",
       "  54: ['ca'],\n",
       "  55: ['wa', 'da', 'nigga'],\n",
       "  56: ['tha', 'ha'],\n",
       "  57: ['ma', 'ba', 'a'],\n",
       "  58: ['a', 'bea', 'nigga'],\n",
       "  59: ['a', 'pea'],\n",
       "  60: [],\n",
       "  61: ['a', 'dea'],\n",
       "  62: ['tha'],\n",
       "  63: ['woma', 'a', 'ha'],\n",
       "  64: ['sauna', 'dea'],\n",
       "  65: [],\n",
       "  66: ['a', 'drama', 'sa'],\n",
       "  67: ['ra'],\n",
       "  68: ['a'],\n",
       "  69: ['ca', 'tha', 'a'],\n",
       "  70: ['tha'],\n",
       "  71: ['a', 'nigga', 'sa'],\n",
       "  72: ['a'],\n",
       "  73: ['ma', 'wha'],\n",
       "  74: ['sta', 'era', 'ma', 'a'],\n",
       "  75: ['wa', 'ca'],\n",
       "  76: ['ea', 'ba', 'a', 'nigga'],\n",
       "  77: ['kha', 'chaka', 'hea'],\n",
       "  78: ['wha']},\n",
       " 'O': {0: ['kno', 'do'],\n",
       "  1: [],\n",
       "  2: ['co'],\n",
       "  3: ['enjo'],\n",
       "  4: ['fo'],\n",
       "  5: ['ho', 'do', 'go'],\n",
       "  6: ['to', 'bo'],\n",
       "  7: ['wo'],\n",
       "  8: ['bo'],\n",
       "  9: ['go'],\n",
       "  10: [],\n",
       "  11: ['do'],\n",
       "  12: ['kno', 'do', 'no'],\n",
       "  13: ['o'],\n",
       "  14: ['kno', 'do'],\n",
       "  15: ['o'],\n",
       "  16: [],\n",
       "  17: [],\n",
       "  18: ['go'],\n",
       "  19: ['who'],\n",
       "  20: ['loo', 'mirro'],\n",
       "  21: [],\n",
       "  22: [],\n",
       "  23: [],\n",
       "  24: ['no'],\n",
       "  25: ['wo', 'do'],\n",
       "  26: ['do'],\n",
       "  27: ['wo'],\n",
       "  28: ['kno', 'do'],\n",
       "  29: ['fro'],\n",
       "  30: ['co'],\n",
       "  31: ['enjo'],\n",
       "  32: ['fo'],\n",
       "  33: ['ho', 'do', 'go'],\n",
       "  34: ['to', 'bo'],\n",
       "  35: ['wo'],\n",
       "  36: ['o', 'fo'],\n",
       "  37: ['sho', 'who'],\n",
       "  38: ['o', 'to'],\n",
       "  39: ['do'],\n",
       "  40: ['so', 'to'],\n",
       "  41: ['so'],\n",
       "  42: ['so', 'mo'],\n",
       "  43: ['to', 'sto', 'so'],\n",
       "  44: ['fro', 'to'],\n",
       "  45: ['no'],\n",
       "  46: ['co'],\n",
       "  47: ['bo'],\n",
       "  48: ['autobo'],\n",
       "  49: [],\n",
       "  50: [],\n",
       "  51: [],\n",
       "  52: [],\n",
       "  53: [],\n",
       "  54: [],\n",
       "  55: [],\n",
       "  56: ['o', 'foo'],\n",
       "  57: ['goo'],\n",
       "  58: ['almo'],\n",
       "  59: ['to'],\n",
       "  60: ['bo', 'fo', 'o'],\n",
       "  61: ['o'],\n",
       "  62: [],\n",
       "  63: ['o', 'fo'],\n",
       "  64: [],\n",
       "  65: ['o', 'mo'],\n",
       "  66: ['to'],\n",
       "  67: ['to'],\n",
       "  68: ['so', 'captio'],\n",
       "  69: ['o', 'acto'],\n",
       "  70: ['actio'],\n",
       "  71: [],\n",
       "  72: [],\n",
       "  73: [],\n",
       "  74: ['blo'],\n",
       "  75: ['to', 'spo', 'so'],\n",
       "  76: ['o', 'do'],\n",
       "  77: ['o'],\n",
       "  78: ['schoo']},\n",
       " 'E': {0: ['brothe'],\n",
       "  1: ['like'],\n",
       "  2: ['stone', 'the', 'caste'],\n",
       "  3: ['life'],\n",
       "  4: ['the', 'life'],\n",
       "  5: ['we'],\n",
       "  6: ['suppose', 'where', \"you're\"],\n",
       "  7: ['ignore', 'fake'],\n",
       "  8: ['the'],\n",
       "  9: ['the', 'stree'],\n",
       "  10: ['whe'],\n",
       "  11: ['the', 'ke', 'handle'],\n",
       "  12: ['one'],\n",
       "  13: ['the', 'depende', 'me'],\n",
       "  14: ['where'],\n",
       "  15: ['the', 'house'],\n",
       "  16: ['people'],\n",
       "  17: ['the', 'whe'],\n",
       "  18: ['the'],\n",
       "  19: [],\n",
       "  20: ['see', 'the', 'like'],\n",
       "  21: ['whe'],\n",
       "  22: ['life'],\n",
       "  23: ['these', 'wife', 'hoe'],\n",
       "  24: ['like', 'sile', 'knife'],\n",
       "  25: ['he'],\n",
       "  26: ['like'],\n",
       "  27: [],\n",
       "  28: [],\n",
       "  29: [],\n",
       "  30: ['stone', 'the', 'caste'],\n",
       "  31: ['life'],\n",
       "  32: ['the', 'life'],\n",
       "  33: ['we'],\n",
       "  34: ['suppose', 'where', \"you're\"],\n",
       "  35: ['ignore', 'fake'],\n",
       "  36: ['code', 're'],\n",
       "  37: ['neve', 'like'],\n",
       "  38: ['bee', 'the', 'since', 'he', 'minute'],\n",
       "  39: ['the', 'life', 'have'],\n",
       "  40: ['make', 'lone', 'mone', 'me'],\n",
       "  41: ['joke', 'are'],\n",
       "  42: ['see', 'the', 'have'],\n",
       "  43: ['neede', 'some', 'apple'],\n",
       "  44: ['the', 'take', 'e', \"'e\", 'he', 'wante'],\n",
       "  45: ['caree'],\n",
       "  46: ['these', 'the', 'rappe'],\n",
       "  47: ['people', 'the', 'me'],\n",
       "  48: ['the', 'like', 'drive'],\n",
       "  49: ['whore'],\n",
       "  50: ['apologize'],\n",
       "  51: ['stone', 'writte'],\n",
       "  52: ['alone', 'leave'],\n",
       "  53: ['the', 'le', 'come', 'give', 'time'],\n",
       "  54: ['le', \"'e\"],\n",
       "  55: ['he', 'like'],\n",
       "  56: ['the', 'ne', 'have', 'rathe'],\n",
       "  57: ['wife', 'rathe', 'die'],\n",
       "  58: ['like', \"they're\", 'hype', 'these', 'me', 'sticke'],\n",
       "  59: ['piece', 'the', 'milkshake', 'use', 'ge'],\n",
       "  60: ['the', 'name', 'white', 'peace'],\n",
       "  61: ['che', 'murde', 'e', 'leave'],\n",
       "  62: ['knowledge', 'curse'],\n",
       "  63: ['the'],\n",
       "  64: ['the', 'before'],\n",
       "  65: ['keke', 'palme', 'like'],\n",
       "  66: ['tyle', 'the', 'me'],\n",
       "  67: [],\n",
       "  68: ['more', 'the', 'time', 'spe', 'made'],\n",
       "  69: ['se'],\n",
       "  70: [],\n",
       "  71: ['these', 'lowe', 'case', 'twee'],\n",
       "  72: ['stalke', 'we'],\n",
       "  73: ['see', 'happene'],\n",
       "  74: ['the'],\n",
       "  75: ['close', 'some', 'made', 'favorite'],\n",
       "  76: [],\n",
       "  77: ['neve', \"you've\"],\n",
       "  78: ['the', 'are']},\n",
       " 'I': {0: ['i'],\n",
       "  1: ['i'],\n",
       "  2: ['mountai'],\n",
       "  3: ['thi', 'i'],\n",
       "  4: ['thi', 'i'],\n",
       "  5: [],\n",
       "  6: [],\n",
       "  7: ['i'],\n",
       "  8: ['i'],\n",
       "  9: ['bi', 'i'],\n",
       "  10: ['i'],\n",
       "  11: ['i'],\n",
       "  12: ['i'],\n",
       "  13: [],\n",
       "  14: ['i'],\n",
       "  15: ['fi', 'i'],\n",
       "  16: ['ai'],\n",
       "  17: ['plotti'],\n",
       "  18: ['i'],\n",
       "  19: ['sleepi', 'thi', 'ni'],\n",
       "  20: ['i'],\n",
       "  21: ['ri', 'i'],\n",
       "  22: ['wi', 'ki'],\n",
       "  23: ['fucki', 'i'],\n",
       "  24: [],\n",
       "  25: ['mi', 'thi', 'i'],\n",
       "  26: ['i'],\n",
       "  27: ['i'],\n",
       "  28: ['i'],\n",
       "  29: [],\n",
       "  30: ['mountai'],\n",
       "  31: ['thi', 'i'],\n",
       "  32: ['thi', 'i'],\n",
       "  33: [],\n",
       "  34: [],\n",
       "  35: ['i'],\n",
       "  36: ['thi', 'i'],\n",
       "  37: [],\n",
       "  38: ['fi', 'i'],\n",
       "  39: ['buildi', 'i'],\n",
       "  40: ['ai', 'i'],\n",
       "  41: [],\n",
       "  42: ['thei', 'i'],\n",
       "  43: ['i'],\n",
       "  44: ['poi', 'i'],\n",
       "  45: ['hi', 'i'],\n",
       "  46: ['comi'],\n",
       "  47: ['evi'],\n",
       "  48: [],\n",
       "  49: ['integri', 'i'],\n",
       "  50: ['di', 'clari', 'i'],\n",
       "  51: ['i'],\n",
       "  52: ['i'],\n",
       "  53: ['li', 'i'],\n",
       "  54: [],\n",
       "  55: ['ri', 'peepi'],\n",
       "  56: ['thei', 'mi'],\n",
       "  57: ['wi'],\n",
       "  58: ['dressi'],\n",
       "  59: ['ei'],\n",
       "  60: ['di', 'fai', 'throwi'],\n",
       "  61: ['pai'],\n",
       "  62: ['wi', 'i'],\n",
       "  63: ['wildi', 'sai', 'i'],\n",
       "  64: [],\n",
       "  65: [],\n",
       "  66: ['i', 'allergi'],\n",
       "  67: ['thi', 'shi', 'allergi', 'i'],\n",
       "  68: ['writi'],\n",
       "  69: ['i'],\n",
       "  70: ['i'],\n",
       "  71: ['cappi', 'i'],\n",
       "  72: ['ai', 'dappi', 'homegi', 'sai', 'i'],\n",
       "  73: ['ai', 'i'],\n",
       "  74: ['overtaki'],\n",
       "  75: ['i'],\n",
       "  76: ['bi', 'di'],\n",
       "  77: [],\n",
       "  78: []},\n",
       " 'U': {0: ['you'],\n",
       "  1: ['arou', 'stu'],\n",
       "  2: [],\n",
       "  3: ['mu'],\n",
       "  4: ['bu'],\n",
       "  5: ['mu'],\n",
       "  6: ['you'],\n",
       "  7: [],\n",
       "  8: ['you', 'pu'],\n",
       "  9: ['you'],\n",
       "  10: [],\n",
       "  11: [],\n",
       "  12: [],\n",
       "  13: [],\n",
       "  14: [],\n",
       "  15: ['you'],\n",
       "  16: ['arou', 'you'],\n",
       "  17: ['you'],\n",
       "  18: ['gu', 'you'],\n",
       "  19: ['you', 'tru'],\n",
       "  20: [],\n",
       "  21: [],\n",
       "  22: ['fu', 'you'],\n",
       "  23: ['you'],\n",
       "  24: [],\n",
       "  25: [],\n",
       "  26: [],\n",
       "  27: [],\n",
       "  28: [],\n",
       "  29: [],\n",
       "  30: [],\n",
       "  31: ['mu'],\n",
       "  32: ['bu'],\n",
       "  33: ['mu'],\n",
       "  34: ['you'],\n",
       "  35: [],\n",
       "  36: [],\n",
       "  37: [],\n",
       "  38: [],\n",
       "  39: ['u', 'bu'],\n",
       "  40: ['you'],\n",
       "  41: [],\n",
       "  42: [],\n",
       "  43: ['bu', 'stu'],\n",
       "  44: [],\n",
       "  45: ['blu'],\n",
       "  46: ['indu'],\n",
       "  47: ['indu'],\n",
       "  48: [],\n",
       "  49: [],\n",
       "  50: [],\n",
       "  51: [],\n",
       "  52: [],\n",
       "  53: ['tru'],\n",
       "  54: ['u'],\n",
       "  55: [],\n",
       "  56: [],\n",
       "  57: [],\n",
       "  58: [],\n",
       "  59: [],\n",
       "  60: [],\n",
       "  61: ['you'],\n",
       "  62: ['you'],\n",
       "  63: ['clou', 'bu', 'pu'],\n",
       "  64: [],\n",
       "  65: [],\n",
       "  66: [],\n",
       "  67: [],\n",
       "  68: ['bu'],\n",
       "  69: ['you', 'pu'],\n",
       "  70: ['abou'],\n",
       "  71: [],\n",
       "  72: [],\n",
       "  73: ['you'],\n",
       "  74: ['ou'],\n",
       "  75: [\"'bou\"],\n",
       "  76: [],\n",
       "  77: [],\n",
       "  78: []}}"
      ]
     },
     "execution_count": 23,
     "metadata": {},
     "output_type": "execute_result"
    }
   ],
   "source": [
    "vowels_dict"
   ]
  },
  {
   "cell_type": "code",
   "execution_count": 24,
   "metadata": {},
   "outputs": [
    {
     "data": {
      "text/plain": [
       "6.746835443037975"
      ]
     },
     "execution_count": 24,
     "metadata": {},
     "output_type": "execute_result"
    }
   ],
   "source": [
    "compute_assonance_score(vowels_dict,len(lines))"
   ]
  },
  {
   "cell_type": "code",
   "execution_count": 25,
   "metadata": {},
   "outputs": [
    {
     "name": "stderr",
     "output_type": "stream",
     "text": [
      "C:\\Users\\zohabidi\\AppData\\Local\\Temp\\ipykernel_40284\\2719710780.py:1: SettingWithCopyWarning: \n",
      "A value is trying to be set on a copy of a slice from a DataFrame.\n",
      "Try using .loc[row_indexer,col_indexer] = value instead\n",
      "\n",
      "See the caveats in the documentation: https://pandas.pydata.org/pandas-docs/stable/user_guide/indexing.html#returning-a-view-versus-a-copy\n",
      "  diss_tracks_cleaned['assonance_score'] = 0\n"
     ]
    }
   ],
   "source": [
    "diss_tracks_cleaned['assonance_score'] = 0"
   ]
  },
  {
   "cell_type": "code",
   "execution_count": 26,
   "metadata": {},
   "outputs": [
    {
     "name": "stderr",
     "output_type": "stream",
     "text": [
      "C:\\Users\\zohabidi\\AppData\\Local\\Temp\\ipykernel_40284\\1523558709.py:5: FutureWarning: Setting an item of incompatible dtype is deprecated and will raise an error in a future version of pandas. Value '6.317460317460317' has dtype incompatible with int64, please explicitly cast to a compatible dtype first.\n",
      "  diss_tracks_cleaned.at[index,'assonance_score'] = assonance_score\n"
     ]
    }
   ],
   "source": [
    "for index, row in diss_tracks_cleaned.iterrows():\n",
    "    lines = row['lines']\n",
    "    assonances,vowels_dict = detect_song_assonance(lines) \n",
    "    assonance_score = compute_assonance_score(vowels_dict, len(lines))\n",
    "    diss_tracks_cleaned.at[index,'assonance_score'] = assonance_score"
   ]
  },
  {
   "cell_type": "code",
   "execution_count": 27,
   "metadata": {},
   "outputs": [
    {
     "data": {
      "text/html": [
       "<div>\n",
       "<style scoped>\n",
       "    .dataframe tbody tr th:only-of-type {\n",
       "        vertical-align: middle;\n",
       "    }\n",
       "\n",
       "    .dataframe tbody tr th {\n",
       "        vertical-align: top;\n",
       "    }\n",
       "\n",
       "    .dataframe thead th {\n",
       "        text-align: right;\n",
       "    }\n",
       "</style>\n",
       "<table border=\"1\" class=\"dataframe\">\n",
       "  <thead>\n",
       "    <tr style=\"text-align: right;\">\n",
       "      <th></th>\n",
       "      <th>Date Released</th>\n",
       "      <th>Song Title</th>\n",
       "      <th>Artist(s)</th>\n",
       "      <th>Target(s)</th>\n",
       "      <th>Year Released</th>\n",
       "      <th>lyrics</th>\n",
       "      <th>lines</th>\n",
       "      <th>words</th>\n",
       "      <th>multi_rhyme_score</th>\n",
       "      <th>assonance_score</th>\n",
       "    </tr>\n",
       "  </thead>\n",
       "  <tbody>\n",
       "    <tr>\n",
       "      <th>0</th>\n",
       "      <td>4-Mar-91</td>\n",
       "      <td>\"Fuck Compton\"</td>\n",
       "      <td>Tim Dog</td>\n",
       "      <td>DJ Quik, Michel'le, N.W.A, Compton, West Coast...</td>\n",
       "      <td>1991</td>\n",
       "      <td>Oh shit mutherfuckas step to the rear and chee...</td>\n",
       "      <td>[Oh shit mutherfuckas step to the rear and che...</td>\n",
       "      <td>[Oh, shit, mutherfuckas, step, to, the, rear, ...</td>\n",
       "      <td>1.952381</td>\n",
       "      <td>6.317460</td>\n",
       "    </tr>\n",
       "    <tr>\n",
       "      <th>1</th>\n",
       "      <td>1-May-91</td>\n",
       "      <td>\"Pop Goes the Weasel\"</td>\n",
       "      <td>3rd Bass</td>\n",
       "      <td>Vanilla Ice</td>\n",
       "      <td>1991</td>\n",
       "      <td>Antoine, Antoine's got something here\\r\\nRo-ro...</td>\n",
       "      <td>[Antoine Antoine's got something here, Ro roll...</td>\n",
       "      <td>[Antoine, Antoine's, got, something, here, Ro,...</td>\n",
       "      <td>2.177215</td>\n",
       "      <td>6.455696</td>\n",
       "    </tr>\n",
       "    <tr>\n",
       "      <th>3</th>\n",
       "      <td>17-Sep-91</td>\n",
       "      <td>\"Get in the Ring\"</td>\n",
       "      <td>Guns N' Roses</td>\n",
       "      <td>Music critics. Mentioned by name are critics f...</td>\n",
       "      <td>1991</td>\n",
       "      <td>Why do you look at me when you hate me\\r\\nWhy ...</td>\n",
       "      <td>[Why do you look at me when you hate me, Why s...</td>\n",
       "      <td>[Why, do, you, look, at, me, when, you, hate, ...</td>\n",
       "      <td>1.269841</td>\n",
       "      <td>4.809524</td>\n",
       "    </tr>\n",
       "    <tr>\n",
       "      <th>4</th>\n",
       "      <td>29-Oct-91</td>\n",
       "      <td>\"No Vaseline\"</td>\n",
       "      <td>Ice Cube</td>\n",
       "      <td>former N.W.A bandmates Eazy-E, Dr. Dre, MC Ren...</td>\n",
       "      <td>1991</td>\n",
       "      <td>Got damn, I'm glad ya'll set it off.\\r\\nUsed t...</td>\n",
       "      <td>[Got damn I'm glad ya'll set it off, Used to b...</td>\n",
       "      <td>[Got, damn, I'm, glad, ya'll, set, it, off, Us...</td>\n",
       "      <td>1.766667</td>\n",
       "      <td>7.122222</td>\n",
       "    </tr>\n",
       "    <tr>\n",
       "      <th>5</th>\n",
       "      <td>9-Dec-91</td>\n",
       "      <td>\"Miserablism\"</td>\n",
       "      <td>Pet Shop Boys</td>\n",
       "      <td>Morrissey</td>\n",
       "      <td>1991</td>\n",
       "      <td>It seems to me there's something serious begin...</td>\n",
       "      <td>[It seems to me there's something serious begi...</td>\n",
       "      <td>[It, seems, to, me, there's, something, seriou...</td>\n",
       "      <td>4.513514</td>\n",
       "      <td>5.189189</td>\n",
       "    </tr>\n",
       "  </tbody>\n",
       "</table>\n",
       "</div>"
      ],
      "text/plain": [
       "  Date Released             Song Title      Artist(s)  \\\n",
       "0      4-Mar-91         \"Fuck Compton\"        Tim Dog   \n",
       "1      1-May-91  \"Pop Goes the Weasel\"       3rd Bass   \n",
       "3     17-Sep-91      \"Get in the Ring\"  Guns N' Roses   \n",
       "4     29-Oct-91          \"No Vaseline\"       Ice Cube   \n",
       "5      9-Dec-91          \"Miserablism\"  Pet Shop Boys   \n",
       "\n",
       "                                           Target(s) Year Released  \\\n",
       "0  DJ Quik, Michel'le, N.W.A, Compton, West Coast...          1991   \n",
       "1                                        Vanilla Ice          1991   \n",
       "3  Music critics. Mentioned by name are critics f...          1991   \n",
       "4  former N.W.A bandmates Eazy-E, Dr. Dre, MC Ren...          1991   \n",
       "5                                          Morrissey          1991   \n",
       "\n",
       "                                              lyrics  \\\n",
       "0  Oh shit mutherfuckas step to the rear and chee...   \n",
       "1  Antoine, Antoine's got something here\\r\\nRo-ro...   \n",
       "3  Why do you look at me when you hate me\\r\\nWhy ...   \n",
       "4  Got damn, I'm glad ya'll set it off.\\r\\nUsed t...   \n",
       "5  It seems to me there's something serious begin...   \n",
       "\n",
       "                                               lines  \\\n",
       "0  [Oh shit mutherfuckas step to the rear and che...   \n",
       "1  [Antoine Antoine's got something here, Ro roll...   \n",
       "3  [Why do you look at me when you hate me, Why s...   \n",
       "4  [Got damn I'm glad ya'll set it off, Used to b...   \n",
       "5  [It seems to me there's something serious begi...   \n",
       "\n",
       "                                               words  multi_rhyme_score  \\\n",
       "0  [Oh, shit, mutherfuckas, step, to, the, rear, ...           1.952381   \n",
       "1  [Antoine, Antoine's, got, something, here, Ro,...           2.177215   \n",
       "3  [Why, do, you, look, at, me, when, you, hate, ...           1.269841   \n",
       "4  [Got, damn, I'm, glad, ya'll, set, it, off, Us...           1.766667   \n",
       "5  [It, seems, to, me, there's, something, seriou...           4.513514   \n",
       "\n",
       "   assonance_score  \n",
       "0         6.317460  \n",
       "1         6.455696  \n",
       "3         4.809524  \n",
       "4         7.122222  \n",
       "5         5.189189  "
      ]
     },
     "execution_count": 27,
     "metadata": {},
     "output_type": "execute_result"
    }
   ],
   "source": [
    "diss_tracks_cleaned.head()"
   ]
  },
  {
   "cell_type": "markdown",
   "metadata": {},
   "source": [
    "## Rhyme Schemes"
   ]
  },
  {
   "cell_type": "markdown",
   "metadata": {},
   "source": [
    "Rhymic schemes are patterns of end rhymes, basic frameworks that help rappers create a rhytmic flow. They also add in a good way a bit of predictability to the song which makes it more memorable. To capture rhymic schemes in a song, we need to be aware of possible schmes and look in the ending of each line. In this work, we will look into four six-line-schemes and nine four-line-schemes. The Rhyme Scheme Score will be given by the ratio of rhyming lines on total number of lines."
   ]
  },
  {
   "cell_type": "code",
   "execution_count": 28,
   "metadata": {},
   "outputs": [],
   "source": [
    "four_line_schemes = [\"ABAB\",\"XAXA\", \"AAAA\", \"AABB\", \"AXAA\", \"AAXA\", \"ABBA\", \"AXXA\", \"AAAX\"]\n",
    "six_line_schems = [\"XXAXXA\", \"AABCCB\", \"XAAXBB\", \"AABAAB\"]"
   ]
  },
  {
   "cell_type": "code",
   "execution_count": 29,
   "metadata": {},
   "outputs": [
    {
     "data": {
      "text/plain": [
       "{'ABAB': [['That girl is a real crowd pleaser',\n",
       "   'Small world, all her friends know me',\n",
       "   \"Young bull livin' like an old geezer\",\n",
       "   'Release the cash, watch it fall slowle']]}"
      ]
     },
     "execution_count": 29,
     "metadata": {},
     "output_type": "execute_result"
    }
   ],
   "source": [
    "lines_ABAB = [\"That girl is a real crowd pleaser\",\n",
    "         \"Small world, all her friends know me\",\n",
    "         \"Young bull livin' like an old geezer\",\n",
    "         \"Release the cash, watch it fall slowle\"] #ABAB \n",
    "\n",
    "detect_song_rhyme_schemes(lines_ABAB)"
   ]
  },
  {
   "cell_type": "code",
   "execution_count": 30,
   "metadata": {},
   "outputs": [
    {
     "data": {
      "text/plain": [
       "{'XXAXXA': [['Spend all your time waiting',\n",
       "   'For that second chance',\n",
       "   'For a break that would make it okay',\n",
       "   \"There's always some reason\"]]}"
      ]
     },
     "execution_count": 30,
     "metadata": {},
     "output_type": "execute_result"
    }
   ],
   "source": [
    "lines_XXAXXA = [\"Spend all your time waiting\",\n",
    "         \"For that second chance\",\n",
    "         \"For a break that would make it okay\",\n",
    "         \"There's always some reason\",\n",
    "         \"To feel not good enough\",\n",
    "         \"And it's hard at the end of the day\"] #XXAXXA\n",
    "detect_song_rhyme_schemes(lines_XXAXXA)"
   ]
  },
  {
   "cell_type": "code",
   "execution_count": 31,
   "metadata": {},
   "outputs": [
    {
     "data": {
      "text/plain": [
       "1.0"
      ]
     },
     "execution_count": 31,
     "metadata": {},
     "output_type": "execute_result"
    }
   ],
   "source": [
    "rhyme_schemes = detect_song_rhyme_schemes(lines_XXAXXA)\n",
    "compute_rhyme_schemes_score(rhyme_schemes, len(lines_XXAXXA))"
   ]
  },
  {
   "cell_type": "code",
   "execution_count": 32,
   "metadata": {},
   "outputs": [
    {
     "name": "stderr",
     "output_type": "stream",
     "text": [
      "C:\\Users\\zohabidi\\AppData\\Local\\Temp\\ipykernel_40284\\3689679344.py:1: SettingWithCopyWarning: \n",
      "A value is trying to be set on a copy of a slice from a DataFrame.\n",
      "Try using .loc[row_indexer,col_indexer] = value instead\n",
      "\n",
      "See the caveats in the documentation: https://pandas.pydata.org/pandas-docs/stable/user_guide/indexing.html#returning-a-view-versus-a-copy\n",
      "  diss_tracks_cleaned['rhyme_scheme_score'] = 0\n"
     ]
    }
   ],
   "source": [
    "diss_tracks_cleaned['rhyme_scheme_score'] = 0"
   ]
  },
  {
   "cell_type": "code",
   "execution_count": null,
   "metadata": {},
   "outputs": [
    {
     "name": "stderr",
     "output_type": "stream",
     "text": [
      "C:\\Users\\zohabidi\\AppData\\Local\\Temp\\ipykernel_40284\\1976031337.py:5: FutureWarning: Setting an item of incompatible dtype is deprecated and will raise an error in a future version of pandas. Value '0.47619047619047616' has dtype incompatible with int64, please explicitly cast to a compatible dtype first.\n",
      "  diss_tracks_cleaned.at[index,'rhyme_scheme_score'] = rhyme_schemes_score\n"
     ]
    }
   ],
   "source": [
    "for index, row in diss_tracks_cleaned.iterrows():\n",
    "    lines = row['lines']\n",
    "    rhyme_schemes = detect_song_rhyme_schemes(lines) \n",
    "    rhyme_schemes_score = compute_rhyme_schemes_score(rhyme_schemes, len(lines))\n",
    "    diss_tracks_cleaned.at[index,'rhyme_scheme_score'] = rhyme_schemes_score"
   ]
  },
  {
   "cell_type": "code",
   "execution_count": 34,
   "metadata": {},
   "outputs": [
    {
     "data": {
      "text/html": [
       "<div>\n",
       "<style scoped>\n",
       "    .dataframe tbody tr th:only-of-type {\n",
       "        vertical-align: middle;\n",
       "    }\n",
       "\n",
       "    .dataframe tbody tr th {\n",
       "        vertical-align: top;\n",
       "    }\n",
       "\n",
       "    .dataframe thead th {\n",
       "        text-align: right;\n",
       "    }\n",
       "</style>\n",
       "<table border=\"1\" class=\"dataframe\">\n",
       "  <thead>\n",
       "    <tr style=\"text-align: right;\">\n",
       "      <th></th>\n",
       "      <th>Date Released</th>\n",
       "      <th>Song Title</th>\n",
       "      <th>Artist(s)</th>\n",
       "      <th>Target(s)</th>\n",
       "      <th>Year Released</th>\n",
       "      <th>lyrics</th>\n",
       "      <th>lines</th>\n",
       "      <th>words</th>\n",
       "      <th>multi_rhyme_score</th>\n",
       "      <th>assonance_score</th>\n",
       "      <th>rhyme_scheme_score</th>\n",
       "    </tr>\n",
       "  </thead>\n",
       "  <tbody>\n",
       "    <tr>\n",
       "      <th>0</th>\n",
       "      <td>4-Mar-91</td>\n",
       "      <td>\"Fuck Compton\"</td>\n",
       "      <td>Tim Dog</td>\n",
       "      <td>DJ Quik, Michel'le, N.W.A, Compton, West Coast...</td>\n",
       "      <td>1991</td>\n",
       "      <td>Oh shit mutherfuckas step to the rear and chee...</td>\n",
       "      <td>[Oh shit mutherfuckas step to the rear and che...</td>\n",
       "      <td>[Oh, shit, mutherfuckas, step, to, the, rear, ...</td>\n",
       "      <td>1.952381</td>\n",
       "      <td>6.317460</td>\n",
       "      <td>0.476190</td>\n",
       "    </tr>\n",
       "    <tr>\n",
       "      <th>1</th>\n",
       "      <td>1-May-91</td>\n",
       "      <td>\"Pop Goes the Weasel\"</td>\n",
       "      <td>3rd Bass</td>\n",
       "      <td>Vanilla Ice</td>\n",
       "      <td>1991</td>\n",
       "      <td>Antoine, Antoine's got something here\\r\\nRo-ro...</td>\n",
       "      <td>[Antoine Antoine's got something here, Ro roll...</td>\n",
       "      <td>[Antoine, Antoine's, got, something, here, Ro,...</td>\n",
       "      <td>2.177215</td>\n",
       "      <td>6.455696</td>\n",
       "      <td>0.531646</td>\n",
       "    </tr>\n",
       "    <tr>\n",
       "      <th>3</th>\n",
       "      <td>17-Sep-91</td>\n",
       "      <td>\"Get in the Ring\"</td>\n",
       "      <td>Guns N' Roses</td>\n",
       "      <td>Music critics. Mentioned by name are critics f...</td>\n",
       "      <td>1991</td>\n",
       "      <td>Why do you look at me when you hate me\\r\\nWhy ...</td>\n",
       "      <td>[Why do you look at me when you hate me, Why s...</td>\n",
       "      <td>[Why, do, you, look, at, me, when, you, hate, ...</td>\n",
       "      <td>1.269841</td>\n",
       "      <td>4.809524</td>\n",
       "      <td>0.476190</td>\n",
       "    </tr>\n",
       "    <tr>\n",
       "      <th>4</th>\n",
       "      <td>29-Oct-91</td>\n",
       "      <td>\"No Vaseline\"</td>\n",
       "      <td>Ice Cube</td>\n",
       "      <td>former N.W.A bandmates Eazy-E, Dr. Dre, MC Ren...</td>\n",
       "      <td>1991</td>\n",
       "      <td>Got damn, I'm glad ya'll set it off.\\r\\nUsed t...</td>\n",
       "      <td>[Got damn I'm glad ya'll set it off, Used to b...</td>\n",
       "      <td>[Got, damn, I'm, glad, ya'll, set, it, off, Us...</td>\n",
       "      <td>1.766667</td>\n",
       "      <td>7.122222</td>\n",
       "      <td>0.400000</td>\n",
       "    </tr>\n",
       "    <tr>\n",
       "      <th>5</th>\n",
       "      <td>9-Dec-91</td>\n",
       "      <td>\"Miserablism\"</td>\n",
       "      <td>Pet Shop Boys</td>\n",
       "      <td>Morrissey</td>\n",
       "      <td>1991</td>\n",
       "      <td>It seems to me there's something serious begin...</td>\n",
       "      <td>[It seems to me there's something serious begi...</td>\n",
       "      <td>[It, seems, to, me, there's, something, seriou...</td>\n",
       "      <td>4.513514</td>\n",
       "      <td>5.189189</td>\n",
       "      <td>0.594595</td>\n",
       "    </tr>\n",
       "  </tbody>\n",
       "</table>\n",
       "</div>"
      ],
      "text/plain": [
       "  Date Released             Song Title      Artist(s)  \\\n",
       "0      4-Mar-91         \"Fuck Compton\"        Tim Dog   \n",
       "1      1-May-91  \"Pop Goes the Weasel\"       3rd Bass   \n",
       "3     17-Sep-91      \"Get in the Ring\"  Guns N' Roses   \n",
       "4     29-Oct-91          \"No Vaseline\"       Ice Cube   \n",
       "5      9-Dec-91          \"Miserablism\"  Pet Shop Boys   \n",
       "\n",
       "                                           Target(s) Year Released  \\\n",
       "0  DJ Quik, Michel'le, N.W.A, Compton, West Coast...          1991   \n",
       "1                                        Vanilla Ice          1991   \n",
       "3  Music critics. Mentioned by name are critics f...          1991   \n",
       "4  former N.W.A bandmates Eazy-E, Dr. Dre, MC Ren...          1991   \n",
       "5                                          Morrissey          1991   \n",
       "\n",
       "                                              lyrics  \\\n",
       "0  Oh shit mutherfuckas step to the rear and chee...   \n",
       "1  Antoine, Antoine's got something here\\r\\nRo-ro...   \n",
       "3  Why do you look at me when you hate me\\r\\nWhy ...   \n",
       "4  Got damn, I'm glad ya'll set it off.\\r\\nUsed t...   \n",
       "5  It seems to me there's something serious begin...   \n",
       "\n",
       "                                               lines  \\\n",
       "0  [Oh shit mutherfuckas step to the rear and che...   \n",
       "1  [Antoine Antoine's got something here, Ro roll...   \n",
       "3  [Why do you look at me when you hate me, Why s...   \n",
       "4  [Got damn I'm glad ya'll set it off, Used to b...   \n",
       "5  [It seems to me there's something serious begi...   \n",
       "\n",
       "                                               words  multi_rhyme_score  \\\n",
       "0  [Oh, shit, mutherfuckas, step, to, the, rear, ...           1.952381   \n",
       "1  [Antoine, Antoine's, got, something, here, Ro,...           2.177215   \n",
       "3  [Why, do, you, look, at, me, when, you, hate, ...           1.269841   \n",
       "4  [Got, damn, I'm, glad, ya'll, set, it, off, Us...           1.766667   \n",
       "5  [It, seems, to, me, there's, something, seriou...           4.513514   \n",
       "\n",
       "   assonance_score  rhyme_scheme_score  \n",
       "0         6.317460            0.476190  \n",
       "1         6.455696            0.531646  \n",
       "3         4.809524            0.476190  \n",
       "4         7.122222            0.400000  \n",
       "5         5.189189            0.594595  "
      ]
     },
     "execution_count": 34,
     "metadata": {},
     "output_type": "execute_result"
    }
   ],
   "source": [
    "diss_tracks_cleaned.head()"
   ]
  },
  {
   "cell_type": "markdown",
   "metadata": {},
   "source": [
    "# Profanity"
   ]
  },
  {
   "cell_type": "code",
   "execution_count": 38,
   "metadata": {},
   "outputs": [],
   "source": [
    "words = diss_tracks_cleaned.at[0,'words']"
   ]
  },
  {
   "cell_type": "code",
   "execution_count": 39,
   "metadata": {},
   "outputs": [
    {
     "data": {
      "text/plain": [
       "['Oh',\n",
       " 'shit',\n",
       " 'mutherfuckas',\n",
       " 'step',\n",
       " 'to',\n",
       " 'the',\n",
       " 'rear',\n",
       " 'and',\n",
       " 'cheer',\n",
       " \"'Cause\"]"
      ]
     },
     "execution_count": 39,
     "metadata": {},
     "output_type": "execute_result"
    }
   ],
   "source": [
    "words[:10]"
   ]
  },
  {
   "cell_type": "code",
   "execution_count": 40,
   "metadata": {},
   "outputs": [
    {
     "data": {
      "text/plain": [
       "0.9535398230088495"
      ]
     },
     "execution_count": 40,
     "metadata": {},
     "output_type": "execute_result"
    }
   ],
   "source": [
    "compute_profanity_score(words)"
   ]
  },
  {
   "cell_type": "code",
   "execution_count": 41,
   "metadata": {},
   "outputs": [
    {
     "name": "stderr",
     "output_type": "stream",
     "text": [
      "C:\\Users\\zohabidi\\AppData\\Local\\Temp\\ipykernel_40284\\1523712211.py:1: SettingWithCopyWarning: \n",
      "A value is trying to be set on a copy of a slice from a DataFrame.\n",
      "Try using .loc[row_indexer,col_indexer] = value instead\n",
      "\n",
      "See the caveats in the documentation: https://pandas.pydata.org/pandas-docs/stable/user_guide/indexing.html#returning-a-view-versus-a-copy\n",
      "  diss_tracks_cleaned['profanity_score'] = 0\n"
     ]
    }
   ],
   "source": [
    "diss_tracks_cleaned['profanity_score'] = 0"
   ]
  },
  {
   "cell_type": "code",
   "execution_count": 42,
   "metadata": {},
   "outputs": [
    {
     "name": "stderr",
     "output_type": "stream",
     "text": [
      "C:\\Users\\zohabidi\\AppData\\Local\\Temp\\ipykernel_40284\\4211723364.py:4: FutureWarning: Setting an item of incompatible dtype is deprecated and will raise an error in a future version of pandas. Value '0.9535398230088495' has dtype incompatible with int64, please explicitly cast to a compatible dtype first.\n",
      "  diss_tracks_cleaned.at[index,'profanity_score'] = profanity_score\n"
     ]
    }
   ],
   "source": [
    "for index, row in diss_tracks_cleaned.iterrows():\n",
    "    words = row['words']\n",
    "    profanity_score = compute_profanity_score(words)\n",
    "    diss_tracks_cleaned.at[index,'profanity_score'] = profanity_score"
   ]
  },
  {
   "cell_type": "code",
   "execution_count": 43,
   "metadata": {},
   "outputs": [
    {
     "data": {
      "text/html": [
       "<div>\n",
       "<style scoped>\n",
       "    .dataframe tbody tr th:only-of-type {\n",
       "        vertical-align: middle;\n",
       "    }\n",
       "\n",
       "    .dataframe tbody tr th {\n",
       "        vertical-align: top;\n",
       "    }\n",
       "\n",
       "    .dataframe thead th {\n",
       "        text-align: right;\n",
       "    }\n",
       "</style>\n",
       "<table border=\"1\" class=\"dataframe\">\n",
       "  <thead>\n",
       "    <tr style=\"text-align: right;\">\n",
       "      <th></th>\n",
       "      <th>Date Released</th>\n",
       "      <th>Song Title</th>\n",
       "      <th>Artist(s)</th>\n",
       "      <th>Target(s)</th>\n",
       "      <th>Year Released</th>\n",
       "      <th>lyrics</th>\n",
       "      <th>lines</th>\n",
       "      <th>words</th>\n",
       "      <th>multi_rhyme_score</th>\n",
       "      <th>assonance_score</th>\n",
       "      <th>rhyme_scheme_score</th>\n",
       "      <th>profanity_score</th>\n",
       "    </tr>\n",
       "  </thead>\n",
       "  <tbody>\n",
       "    <tr>\n",
       "      <th>0</th>\n",
       "      <td>4-Mar-91</td>\n",
       "      <td>\"Fuck Compton\"</td>\n",
       "      <td>Tim Dog</td>\n",
       "      <td>DJ Quik, Michel'le, N.W.A, Compton, West Coast...</td>\n",
       "      <td>1991</td>\n",
       "      <td>Oh shit mutherfuckas step to the rear and chee...</td>\n",
       "      <td>[Oh shit mutherfuckas step to the rear and che...</td>\n",
       "      <td>[Oh, shit, mutherfuckas, step, to, the, rear, ...</td>\n",
       "      <td>1.952381</td>\n",
       "      <td>6.317460</td>\n",
       "      <td>0.476190</td>\n",
       "      <td>0.953540</td>\n",
       "    </tr>\n",
       "    <tr>\n",
       "      <th>1</th>\n",
       "      <td>1-May-91</td>\n",
       "      <td>\"Pop Goes the Weasel\"</td>\n",
       "      <td>3rd Bass</td>\n",
       "      <td>Vanilla Ice</td>\n",
       "      <td>1991</td>\n",
       "      <td>Antoine, Antoine's got something here\\r\\nRo-ro...</td>\n",
       "      <td>[Antoine Antoine's got something here, Ro roll...</td>\n",
       "      <td>[Antoine, Antoine's, got, something, here, Ro,...</td>\n",
       "      <td>2.177215</td>\n",
       "      <td>6.455696</td>\n",
       "      <td>0.531646</td>\n",
       "      <td>0.995074</td>\n",
       "    </tr>\n",
       "    <tr>\n",
       "      <th>3</th>\n",
       "      <td>17-Sep-91</td>\n",
       "      <td>\"Get in the Ring\"</td>\n",
       "      <td>Guns N' Roses</td>\n",
       "      <td>Music critics. Mentioned by name are critics f...</td>\n",
       "      <td>1991</td>\n",
       "      <td>Why do you look at me when you hate me\\r\\nWhy ...</td>\n",
       "      <td>[Why do you look at me when you hate me, Why s...</td>\n",
       "      <td>[Why, do, you, look, at, me, when, you, hate, ...</td>\n",
       "      <td>1.269841</td>\n",
       "      <td>4.809524</td>\n",
       "      <td>0.476190</td>\n",
       "      <td>0.958217</td>\n",
       "    </tr>\n",
       "    <tr>\n",
       "      <th>4</th>\n",
       "      <td>29-Oct-91</td>\n",
       "      <td>\"No Vaseline\"</td>\n",
       "      <td>Ice Cube</td>\n",
       "      <td>former N.W.A bandmates Eazy-E, Dr. Dre, MC Ren...</td>\n",
       "      <td>1991</td>\n",
       "      <td>Got damn, I'm glad ya'll set it off.\\r\\nUsed t...</td>\n",
       "      <td>[Got damn I'm glad ya'll set it off, Used to b...</td>\n",
       "      <td>[Got, damn, I'm, glad, ya'll, set, it, off, Us...</td>\n",
       "      <td>1.766667</td>\n",
       "      <td>7.122222</td>\n",
       "      <td>0.400000</td>\n",
       "      <td>0.955679</td>\n",
       "    </tr>\n",
       "    <tr>\n",
       "      <th>5</th>\n",
       "      <td>9-Dec-91</td>\n",
       "      <td>\"Miserablism\"</td>\n",
       "      <td>Pet Shop Boys</td>\n",
       "      <td>Morrissey</td>\n",
       "      <td>1991</td>\n",
       "      <td>It seems to me there's something serious begin...</td>\n",
       "      <td>[It seems to me there's something serious begi...</td>\n",
       "      <td>[It, seems, to, me, there's, something, seriou...</td>\n",
       "      <td>4.513514</td>\n",
       "      <td>5.189189</td>\n",
       "      <td>0.594595</td>\n",
       "      <td>1.000000</td>\n",
       "    </tr>\n",
       "  </tbody>\n",
       "</table>\n",
       "</div>"
      ],
      "text/plain": [
       "  Date Released             Song Title      Artist(s)  \\\n",
       "0      4-Mar-91         \"Fuck Compton\"        Tim Dog   \n",
       "1      1-May-91  \"Pop Goes the Weasel\"       3rd Bass   \n",
       "3     17-Sep-91      \"Get in the Ring\"  Guns N' Roses   \n",
       "4     29-Oct-91          \"No Vaseline\"       Ice Cube   \n",
       "5      9-Dec-91          \"Miserablism\"  Pet Shop Boys   \n",
       "\n",
       "                                           Target(s) Year Released  \\\n",
       "0  DJ Quik, Michel'le, N.W.A, Compton, West Coast...          1991   \n",
       "1                                        Vanilla Ice          1991   \n",
       "3  Music critics. Mentioned by name are critics f...          1991   \n",
       "4  former N.W.A bandmates Eazy-E, Dr. Dre, MC Ren...          1991   \n",
       "5                                          Morrissey          1991   \n",
       "\n",
       "                                              lyrics  \\\n",
       "0  Oh shit mutherfuckas step to the rear and chee...   \n",
       "1  Antoine, Antoine's got something here\\r\\nRo-ro...   \n",
       "3  Why do you look at me when you hate me\\r\\nWhy ...   \n",
       "4  Got damn, I'm glad ya'll set it off.\\r\\nUsed t...   \n",
       "5  It seems to me there's something serious begin...   \n",
       "\n",
       "                                               lines  \\\n",
       "0  [Oh shit mutherfuckas step to the rear and che...   \n",
       "1  [Antoine Antoine's got something here, Ro roll...   \n",
       "3  [Why do you look at me when you hate me, Why s...   \n",
       "4  [Got damn I'm glad ya'll set it off, Used to b...   \n",
       "5  [It seems to me there's something serious begi...   \n",
       "\n",
       "                                               words  multi_rhyme_score  \\\n",
       "0  [Oh, shit, mutherfuckas, step, to, the, rear, ...           1.952381   \n",
       "1  [Antoine, Antoine's, got, something, here, Ro,...           2.177215   \n",
       "3  [Why, do, you, look, at, me, when, you, hate, ...           1.269841   \n",
       "4  [Got, damn, I'm, glad, ya'll, set, it, off, Us...           1.766667   \n",
       "5  [It, seems, to, me, there's, something, seriou...           4.513514   \n",
       "\n",
       "   assonance_score  rhyme_scheme_score  profanity_score  \n",
       "0         6.317460            0.476190         0.953540  \n",
       "1         6.455696            0.531646         0.995074  \n",
       "3         4.809524            0.476190         0.958217  \n",
       "4         7.122222            0.400000         0.955679  \n",
       "5         5.189189            0.594595         1.000000  "
      ]
     },
     "execution_count": 43,
     "metadata": {},
     "output_type": "execute_result"
    }
   ],
   "source": [
    "diss_tracks_cleaned.head()"
   ]
  }
 ],
 "metadata": {
  "kernelspec": {
   "display_name": "myenv",
   "language": "python",
   "name": "python3"
  },
  "language_info": {
   "codemirror_mode": {
    "name": "ipython",
    "version": 3
   },
   "file_extension": ".py",
   "mimetype": "text/x-python",
   "name": "python",
   "nbconvert_exporter": "python",
   "pygments_lexer": "ipython3",
   "version": "3.11.9"
  }
 },
 "nbformat": 4,
 "nbformat_minor": 2
}
