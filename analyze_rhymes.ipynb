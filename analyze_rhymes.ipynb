{
 "cells": [
  {
   "cell_type": "markdown",
   "metadata": {},
   "source": [
    "Goal is to detect three types of rhyming techniques: \n",
    "- assonance.\n",
    "- mutli-syllable rhymes.\n",
    "- rhyming schemes. "
   ]
  },
  {
   "cell_type": "markdown",
   "metadata": {},
   "source": [
    "- Read data: \n",
    "Read the lyrics in a list of lines. \n",
    "- preprocessing steps: \n",
    "1. remove special characters. \n",
    "2. remove maningless words? (implement it but keep it open). \n",
    "3. create a vowel representation for each word (assonance detection)\n",
    "4. create a syllable representation of each word (multis detection)"
   ]
  },
  {
   "cell_type": "code",
   "execution_count": null,
   "metadata": {},
   "outputs": [],
   "source": [
    "import pronouncing\n",
    "from rhyme_analytics import *\n"
   ]
  },
  {
   "cell_type": "code",
   "execution_count": null,
   "metadata": {},
   "outputs": [
    {
     "name": "stdout",
     "output_type": "stream",
     "text": [
      "['in', 'come']\n"
     ]
    }
   ],
   "source": [
    "\n",
    "# Create an instance of the Pyphen class using the 'en' dictionary for English language\n",
    "\n",
    "# Get the syllables of a word\n",
    "word = 'income'\n",
    "syllables = dic.inserted(word).split('-')\n",
    "\n",
    "print(syllables)  # Output: ['ex', 'am', 'ple']\n"
   ]
  },
  {
   "cell_type": "markdown",
   "metadata": {},
   "source": [
    "## Read & Preprocess Data"
   ]
  },
  {
   "cell_type": "code",
   "execution_count": 3,
   "metadata": {},
   "outputs": [
    {
     "name": "stderr",
     "output_type": "stream",
     "text": [
      "[nltk_data] Downloading package stopwords to\n",
      "[nltk_data]     C:\\Users\\zohabidi\\AppData\\Roaming\\nltk_data...\n",
      "[nltk_data]   Package stopwords is already up-to-date!\n"
     ]
    },
    {
     "data": {
      "text/plain": [
       "True"
      ]
     },
     "execution_count": 3,
     "metadata": {},
     "output_type": "execute_result"
    }
   ],
   "source": [
    "import nltk\n",
    "nltk.download('stopwords')"
   ]
  },
  {
   "cell_type": "code",
   "execution_count": 4,
   "metadata": {},
   "outputs": [],
   "source": [
    "from nltk.corpus import stopwords\n",
    "\n",
    "stop_words = stopwords.words('english')\n",
    "new_stop_words = ['ooh','yeah','hey','whoa','woah', 'ohh', 'was', 'mmm', 'oooh','yah','yeh','mmm', 'hmm','deh','doh','jah','wa']\n",
    "stop_words.extend(new_stop_words)"
   ]
  },
  {
   "cell_type": "code",
   "execution_count": null,
   "metadata": {},
   "outputs": [],
   "source": [
    "stop_words[:30]"
   ]
  },
  {
   "cell_type": "code",
   "execution_count": 1,
   "metadata": {},
   "outputs": [],
   "source": [
    "import pandas as pd\n",
    "diss_tracks = pd.read_csv('diss_tracks.csv')"
   ]
  },
  {
   "cell_type": "code",
   "execution_count": 13,
   "metadata": {},
   "outputs": [
    {
     "data": {
      "text/plain": [
       "float"
      ]
     },
     "execution_count": 13,
     "metadata": {},
     "output_type": "execute_result"
    }
   ],
   "source": [
    "type(diss_tracks.loc[2,'lyrics'])"
   ]
  },
  {
   "cell_type": "code",
   "execution_count": 14,
   "metadata": {},
   "outputs": [
    {
     "data": {
      "text/plain": [
       "Date Released    144\n",
       "Song Title       144\n",
       "Artist(s)        144\n",
       "Target(s)        144\n",
       "Year Released    144\n",
       "lyrics            69\n",
       "lines            144\n",
       "words            144\n",
       "dtype: int64"
      ]
     },
     "execution_count": 14,
     "metadata": {},
     "output_type": "execute_result"
    }
   ],
   "source": [
    "diss_tracks.count()"
   ]
  },
  {
   "cell_type": "code",
   "execution_count": 15,
   "metadata": {},
   "outputs": [],
   "source": [
    "diss_tracks_cleaned = diss_tracks.dropna(subset=['lyrics'])\n"
   ]
  },
  {
   "cell_type": "code",
   "execution_count": 17,
   "metadata": {},
   "outputs": [
    {
     "data": {
      "text/plain": [
       "Date Released    69\n",
       "Song Title       69\n",
       "Artist(s)        69\n",
       "Target(s)        69\n",
       "Year Released    69\n",
       "lyrics           69\n",
       "lines            69\n",
       "words            69\n",
       "dtype: int64"
      ]
     },
     "execution_count": 17,
     "metadata": {},
     "output_type": "execute_result"
    }
   ],
   "source": [
    "diss_tracks_cleaned.count()"
   ]
  },
  {
   "cell_type": "code",
   "execution_count": null,
   "metadata": {},
   "outputs": [],
   "source": [
    "diss_tracks_cleaned['lines'] = \"\"\n",
    "diss_tracks_cleaned['words'] = \"\""
   ]
  },
  {
   "cell_type": "code",
   "execution_count": null,
   "metadata": {},
   "outputs": [],
   "source": [
    "for index,row in diss_tracks_cleaned.iterrows():\n",
    "    if row['lyrics'] is None:\n",
    "        continue\n",
    "    lines,words = [], []\n",
    "    # Iterate over each line in the file\n",
    "    for line in row['lyrics'].split('\\n'):\n",
    "        if len(line) == 0:\n",
    "            continue\n",
    "        line = clean_line(line)(line)\n",
    "        ## remove stopwords not so sure about it. \n",
    "        lines.append(line)\n",
    "        words.append(line.split())\n",
    "        \n",
    "    diss_tracks_cleaned.at[index,'lines'] = lines\n",
    "    diss_tracks_cleaned.at[index,'words'] = words"
   ]
  },
  {
   "cell_type": "code",
   "execution_count": 25,
   "metadata": {},
   "outputs": [
    {
     "data": {
      "text/html": [
       "<div>\n",
       "<style scoped>\n",
       "    .dataframe tbody tr th:only-of-type {\n",
       "        vertical-align: middle;\n",
       "    }\n",
       "\n",
       "    .dataframe tbody tr th {\n",
       "        vertical-align: top;\n",
       "    }\n",
       "\n",
       "    .dataframe thead th {\n",
       "        text-align: right;\n",
       "    }\n",
       "</style>\n",
       "<table border=\"1\" class=\"dataframe\">\n",
       "  <thead>\n",
       "    <tr style=\"text-align: right;\">\n",
       "      <th></th>\n",
       "      <th>Date Released</th>\n",
       "      <th>Song Title</th>\n",
       "      <th>Artist(s)</th>\n",
       "      <th>Target(s)</th>\n",
       "      <th>Year Released</th>\n",
       "      <th>lyrics</th>\n",
       "      <th>lines</th>\n",
       "      <th>words</th>\n",
       "    </tr>\n",
       "  </thead>\n",
       "  <tbody>\n",
       "    <tr>\n",
       "      <th>0</th>\n",
       "      <td>4-Mar-91</td>\n",
       "      <td>\"Fuck Compton\"</td>\n",
       "      <td>Tim Dog</td>\n",
       "      <td>DJ Quik, Michel'le, N.W.A, Compton, West Coast...</td>\n",
       "      <td>1991</td>\n",
       "      <td>Oh shit mutherfuckas step to the rear and chee...</td>\n",
       "      <td>[Oh shit mutherfuckas step to the rear and che...</td>\n",
       "      <td>[[Oh, shit, mutherfuckas, step, to, the, rear,...</td>\n",
       "    </tr>\n",
       "    <tr>\n",
       "      <th>1</th>\n",
       "      <td>1-May-91</td>\n",
       "      <td>\"Pop Goes the Weasel\"</td>\n",
       "      <td>3rd Bass</td>\n",
       "      <td>Vanilla Ice</td>\n",
       "      <td>1991</td>\n",
       "      <td>Antoine, Antoine's got something here\\r\\nRo-ro...</td>\n",
       "      <td>[Antoine Antoine's got something here, Ro roll...</td>\n",
       "      <td>[[Antoine, Antoine's, got, something, here], [...</td>\n",
       "    </tr>\n",
       "    <tr>\n",
       "      <th>3</th>\n",
       "      <td>17-Sep-91</td>\n",
       "      <td>\"Get in the Ring\"</td>\n",
       "      <td>Guns N' Roses</td>\n",
       "      <td>Music critics. Mentioned by name are critics f...</td>\n",
       "      <td>1991</td>\n",
       "      <td>Why do you look at me when you hate me\\r\\nWhy ...</td>\n",
       "      <td>[Why do you look at me when you hate me, Why s...</td>\n",
       "      <td>[[Why, do, you, look, at, me, when, you, hate,...</td>\n",
       "    </tr>\n",
       "    <tr>\n",
       "      <th>4</th>\n",
       "      <td>29-Oct-91</td>\n",
       "      <td>\"No Vaseline\"</td>\n",
       "      <td>Ice Cube</td>\n",
       "      <td>former N.W.A bandmates Eazy-E, Dr. Dre, MC Ren...</td>\n",
       "      <td>1991</td>\n",
       "      <td>Got damn, I'm glad ya'll set it off.\\r\\nUsed t...</td>\n",
       "      <td>[Got damn I'm glad ya'll set it off, Used to b...</td>\n",
       "      <td>[[Got, damn, I'm, glad, ya'll, set, it, off], ...</td>\n",
       "    </tr>\n",
       "    <tr>\n",
       "      <th>5</th>\n",
       "      <td>9-Dec-91</td>\n",
       "      <td>\"Miserablism\"</td>\n",
       "      <td>Pet Shop Boys</td>\n",
       "      <td>Morrissey</td>\n",
       "      <td>1991</td>\n",
       "      <td>It seems to me there's something serious begin...</td>\n",
       "      <td>[It seems to me there's something serious begi...</td>\n",
       "      <td>[[It, seems, to, me, there's, something, serio...</td>\n",
       "    </tr>\n",
       "  </tbody>\n",
       "</table>\n",
       "</div>"
      ],
      "text/plain": [
       "  Date Released             Song Title      Artist(s)  \\\n",
       "0      4-Mar-91         \"Fuck Compton\"        Tim Dog   \n",
       "1      1-May-91  \"Pop Goes the Weasel\"       3rd Bass   \n",
       "3     17-Sep-91      \"Get in the Ring\"  Guns N' Roses   \n",
       "4     29-Oct-91          \"No Vaseline\"       Ice Cube   \n",
       "5      9-Dec-91          \"Miserablism\"  Pet Shop Boys   \n",
       "\n",
       "                                           Target(s) Year Released  \\\n",
       "0  DJ Quik, Michel'le, N.W.A, Compton, West Coast...          1991   \n",
       "1                                        Vanilla Ice          1991   \n",
       "3  Music critics. Mentioned by name are critics f...          1991   \n",
       "4  former N.W.A bandmates Eazy-E, Dr. Dre, MC Ren...          1991   \n",
       "5                                          Morrissey          1991   \n",
       "\n",
       "                                              lyrics  \\\n",
       "0  Oh shit mutherfuckas step to the rear and chee...   \n",
       "1  Antoine, Antoine's got something here\\r\\nRo-ro...   \n",
       "3  Why do you look at me when you hate me\\r\\nWhy ...   \n",
       "4  Got damn, I'm glad ya'll set it off.\\r\\nUsed t...   \n",
       "5  It seems to me there's something serious begin...   \n",
       "\n",
       "                                               lines  \\\n",
       "0  [Oh shit mutherfuckas step to the rear and che...   \n",
       "1  [Antoine Antoine's got something here, Ro roll...   \n",
       "3  [Why do you look at me when you hate me, Why s...   \n",
       "4  [Got damn I'm glad ya'll set it off, Used to b...   \n",
       "5  [It seems to me there's something serious begi...   \n",
       "\n",
       "                                               words  \n",
       "0  [[Oh, shit, mutherfuckas, step, to, the, rear,...  \n",
       "1  [[Antoine, Antoine's, got, something, here], [...  \n",
       "3  [[Why, do, you, look, at, me, when, you, hate,...  \n",
       "4  [[Got, damn, I'm, glad, ya'll, set, it, off], ...  \n",
       "5  [[It, seems, to, me, there's, something, serio...  "
      ]
     },
     "execution_count": 25,
     "metadata": {},
     "output_type": "execute_result"
    }
   ],
   "source": [
    "diss_tracks_cleaned.head()"
   ]
  },
  {
   "cell_type": "code",
   "execution_count": null,
   "metadata": {},
   "outputs": [
    {
     "data": {
      "text/plain": [
       "'M0RFKN'"
      ]
     },
     "execution_count": 9,
     "metadata": {},
     "output_type": "execute_result"
    }
   ],
   "source": [
    "## create vowel representation: \n",
    "#ph.get_phonetic_transcription('bath')\n",
    "phonetics.metaphone('motherfuckin')"
   ]
  },
  {
   "cell_type": "code",
   "execution_count": 10,
   "metadata": {},
   "outputs": [
    {
     "data": {
      "text/plain": [
       "True"
      ]
     },
     "execution_count": 10,
     "metadata": {},
     "output_type": "execute_result"
    }
   ],
   "source": [
    "# check rhyming words\n",
    "phonetics.metaphone('friends')[-1] == phonetics.metaphone('ass')[-1] "
   ]
  },
  {
   "cell_type": "code",
   "execution_count": 11,
   "metadata": {},
   "outputs": [],
   "source": [
    "bar1 = \"sling some raps\"\n",
    "bar2 = \"income tax\"\n",
    "\n",
    "words_bar1 = bar1.split(\" \")\n",
    "words_bar2 = bar2.split(\" \")\n",
    "\n",
    "bar1_syllables,bar2_syllables = [],[]\n",
    "bar1_ph_syllables,bar2_ph_syllables = [],[]\n",
    "\n",
    "\n",
    "for word in words_bar1:\n",
    "    syllables = dic.inserted(word).split('-')\n",
    "    bar1_syllables.append(syllables)\n",
    "    syllables_ph = []\n",
    "    for syllable in syllables:\n",
    "        syllables_ph.append(phonetics.nysiis(syllable))\n",
    "    bar1_ph_syllables.append(syllables_ph)\n",
    "\n",
    "for word in words_bar2:\n",
    "    syllables = dic.inserted(word).split('-')\n",
    "    bar2_syllables.append(syllables)\n",
    "    syllables_ph = []\n",
    "    for syllable in syllables:\n",
    "        syllables_ph.append(phonetics.nysiis(syllable))\n",
    "    bar2_ph_syllables.append(syllables_ph)"
   ]
  },
  {
   "cell_type": "code",
   "execution_count": 12,
   "metadata": {},
   "outputs": [
    {
     "data": {
      "text/plain": [
       "[['SA'], ['SANA'], ['RA']]"
      ]
     },
     "execution_count": 12,
     "metadata": {},
     "output_type": "execute_result"
    }
   ],
   "source": [
    "bar1_ph_syllables"
   ]
  },
  {
   "cell_type": "code",
   "execution_count": 13,
   "metadata": {},
   "outputs": [
    {
     "data": {
      "text/plain": [
       "[['IA', 'CANA'], ['TA']]"
      ]
     },
     "execution_count": 13,
     "metadata": {},
     "output_type": "execute_result"
    }
   ],
   "source": [
    "bar2_ph_syllables"
   ]
  },
  {
   "cell_type": "code",
   "execution_count": 14,
   "metadata": {},
   "outputs": [],
   "source": [
    "bar1 = \"Cold Winter Day so I wear my jacket\" \n",
    "bar2 = \"gold winners play because life is a game\"\n",
    "\n",
    "words_bar1 = bar1.split(\" \")\n",
    "words_bar2 = bar2.split(\" \")\n",
    "\n",
    "bar1_syllables,bar2_syllables = [],[]\n",
    "bar1_ph_syllables,bar2_ph_syllables = [],[]\n",
    "\n",
    "\n",
    "for word in words_bar1:\n",
    "    syllables = dic.inserted(word).split('-')\n",
    "    bar1_syllables.append(syllables)\n",
    "    syllables_ph = []\n",
    "    for syllable in syllables:\n",
    "        syllables_ph.append(phonetics.metaphone(syllable))\n",
    "    bar1_ph_syllables.append(syllables_ph)\n",
    "\n",
    "for word in words_bar2:\n",
    "    syllables = dic.inserted(word).split('-')\n",
    "    bar2_syllables.append(syllables)\n",
    "    syllables_ph = []\n",
    "    for syllable in syllables:\n",
    "        syllables_ph.append(phonetics.metaphone(syllable))\n",
    "    bar2_ph_syllables.append(syllables_ph)\n"
   ]
  },
  {
   "cell_type": "code",
   "execution_count": 15,
   "metadata": {},
   "outputs": [
    {
     "data": {
      "text/plain": [
       "[['KLT'], ['AN', 'TR'], ['T'], ['S'], ['A'], ['AR'], ['M'], ['JK', 'AT']]"
      ]
     },
     "execution_count": 15,
     "metadata": {},
     "output_type": "execute_result"
    }
   ],
   "source": [
    "bar1_ph_syllables"
   ]
  },
  {
   "cell_type": "code",
   "execution_count": 16,
   "metadata": {},
   "outputs": [
    {
     "data": {
      "text/plain": [
       "[['KLT'], ['AN', 'NRS'], ['PL'], ['P', 'KS'], ['LF'], ['AS'], ['A'], ['KM']]"
      ]
     },
     "execution_count": 16,
     "metadata": {},
     "output_type": "execute_result"
    }
   ],
   "source": [
    "bar2_ph_syllables"
   ]
  },
  {
   "cell_type": "code",
   "execution_count": null,
   "metadata": {},
   "outputs": [
    {
     "name": "stdout",
     "output_type": "stream",
     "text": [
      "Levenshtein similarity: 0.57\n"
     ]
    }
   ],
   "source": [
    "# Example usage\n",
    "str1 = \"KLT AN TR T S A AR\"\n",
    "str2 = \"KLT AN NRS PL P KS LF\"\n",
    "similarity = levenshtein_similarity(str1, str2)\n",
    "print(f\"Levenshtein similarity: {similarity:.2f}\")"
   ]
  },
  {
   "cell_type": "code",
   "execution_count": null,
   "metadata": {},
   "outputs": [],
   "source": [
    "#similarity = difflib_similarity(str1, str2)\n",
    "#print(f\"difflib similarity: {similarity:.2f}\")"
   ]
  },
  {
   "cell_type": "code",
   "execution_count": null,
   "metadata": {},
   "outputs": [],
   "source": [
    "# function to extract multi syllable rhymes --> assonance extraction --> rhyme schemes. "
   ]
  },
  {
   "cell_type": "code",
   "execution_count": null,
   "metadata": {},
   "outputs": [
    {
     "data": {
      "text/plain": [
       "[(['B', 'C'], ['B', 'C'])]"
      ]
     },
     "execution_count": 20,
     "metadata": {},
     "output_type": "execute_result"
    }
   ],
   "source": [
    "detect_multi_rhymes([\"A\", \"B\", \"C\"], [\"D\", \"B\", \"C\"])\n",
    "#detect_multi_rhymes([\"A\", \"B\", \"C\",\"D\", \"M\", \"N\", \"O\"], [\"E\",\"F\", \"B\", \"L\",\"B\", \"C\", \"D\"])"
   ]
  },
  {
   "cell_type": "code",
   "execution_count": 21,
   "metadata": {},
   "outputs": [
    {
     "data": {
      "text/plain": [
       "'KM'"
      ]
     },
     "execution_count": 21,
     "metadata": {},
     "output_type": "execute_result"
    }
   ],
   "source": [
    "phonetics.metaphone(\"com\")"
   ]
  },
  {
   "cell_type": "code",
   "execution_count": null,
   "metadata": {},
   "outputs": [
    {
     "data": {
      "text/plain": [
       "(['sling', 'some', 'raps'], ['SLNK', 'SM', 'RPS'])"
      ]
     },
     "execution_count": 22,
     "metadata": {},
     "output_type": "execute_result"
    }
   ],
   "source": [
    "create_phonetic_syllable_represtation(\"sling some raps\")"
   ]
  },
  {
   "cell_type": "code",
   "execution_count": 23,
   "metadata": {},
   "outputs": [],
   "source": [
    "# for each line -> create syllable phonetic representation of current & next line --> call the multi function\n",
    "# -> in case you find something add it to a dict: key:line number -> value: multi tuple. \n",
    "multi_rhymes = {}\n",
    "for line_index in range(len(lines)-1):\n",
    "    _,current_line_syllables_ph=create_phonetic_syllable_represtation(lines[line_index])\n",
    "    _,next_line_syllables_ph=create_phonetic_syllable_represtation(lines[line_index+1])\n",
    "    \n",
    "    multi_rhyme = detect_multi_rhymes(current_line_syllables_ph, next_line_syllables_ph)\n",
    "    if multi_rhyme is not None:\n",
    "        multi_rhymes[line_index] = multi_rhyme\n"
   ]
  },
  {
   "cell_type": "code",
   "execution_count": 24,
   "metadata": {},
   "outputs": [
    {
     "name": "stdout",
     "output_type": "stream",
     "text": [
      "85 2.0\n"
     ]
    }
   ],
   "source": [
    "number_multi_rhymes, average_len_multi_rhymes = 0,0\n",
    "for index, (key,value) in enumerate(multi_rhymes.items()):\n",
    "    if len(value)>0:\n",
    "        number_multi_rhymes += 1\n",
    "        average_len_multi_rhymes += len(value[0])\n",
    "\n",
    "print(number_multi_rhymes, average_len_multi_rhymes/number_multi_rhymes) "
   ]
  },
  {
   "cell_type": "markdown",
   "metadata": {},
   "source": [
    "## Assonance"
   ]
  },
  {
   "cell_type": "code",
   "execution_count": null,
   "metadata": {},
   "outputs": [],
   "source": [
    "# same logic, you check current line and next line \n",
    "# you need a vowel representation \n",
    "\n",
    "#detect_assonance([ \"BA\", \"MAI\", \"LOO\", \"FA\"], [\"TAA\", \"LBO\", \"KKO\"])"
   ]
  },
  {
   "cell_type": "code",
   "execution_count": 26,
   "metadata": {},
   "outputs": [],
   "source": [
    "assonances = {}\n",
    "for line_index in range(len(lines)-1):\n",
    "    current_line_vowel_repr = cut_at_last_vowel(lines[line_index])\n",
    "    if not len(current_line_vowel_repr):\n",
    "        continue\n",
    "    next_line_vowel_repr = cut_at_last_vowel(lines[line_index+1])\n",
    "    \n",
    "    assonance = detect_assonance(current_line_vowel_repr, next_line_vowel_repr)\n",
    "    if len(assonance):\n",
    "        assonances[line_index] = assonance"
   ]
  },
  {
   "cell_type": "code",
   "execution_count": null,
   "metadata": {},
   "outputs": [],
   "source": [
    "assonances"
   ]
  },
  {
   "cell_type": "markdown",
   "metadata": {},
   "source": [
    "## Rhyme Schemes"
   ]
  },
  {
   "cell_type": "code",
   "execution_count": null,
   "metadata": {},
   "outputs": [],
   "source": [
    "four_line_schemes = [\"ABAB\",\"XAXA\", \"AAAA\", \"AABB\", \"AXAA\", \"AAXA\", \"ABBA\", \"AXXA\", \"AAAX\"]\n",
    "six_line_schems = [\"XXAXXA\", \"AABCCB\", \"XAAXBB\", \"AABAAB\"]"
   ]
  },
  {
   "cell_type": "code",
   "execution_count": 30,
   "metadata": {},
   "outputs": [],
   "source": [
    "twopac_lines = lines "
   ]
  },
  {
   "cell_type": "code",
   "execution_count": 42,
   "metadata": {},
   "outputs": [],
   "source": [
    "# comparison not between actualy characters but pronunciation. \n",
    "lines = [\"That girl is a real crowd pleaser\",\n",
    "         \"Small world, all her friends know me\",\n",
    "         \"Young bull livin' like an old geezer\",\n",
    "         \"Release the cash, watch it fall slowle\"] #ABAB \n",
    "lines = [\"I got the horses in the back\",\n",
    "         \"Horse tack is attached\",\n",
    "         \"Hat is matte black\",\n",
    "         \"Got the boots that's black to match\"] ##AAAA\n",
    "lines = [\"Spend all your time waiting\",\n",
    "         \"For that second chance\",\n",
    "         \"For a break that would make it okay\",\n",
    "         \"There's always some reason\",\n",
    "         \"To feel not good enough\",\n",
    "         \"And it's hard at the end of the day\"] #XXAXXA"
   ]
  },
  {
   "cell_type": "code",
   "execution_count": null,
   "metadata": {},
   "outputs": [],
   "source": [
    "rhyme_schemes = {}\n",
    "line_index = 0\n",
    "while(line_index<len(lines)-3):\n",
    "    remaining_lines = len(lines)-line_index\n",
    "    four_line_endings = lines[line_index][-1] + lines[line_index+1][-1] + lines[line_index+2][-1] + lines[line_index+3][-1]\n",
    "\n",
    "    if remaining_lines >5:\n",
    "        six_line_endings = four_line_endings + lines[line_index+4][-1] + lines[line_index+5][-1]\n",
    "        six_line_info, list_indices = analyze_line_endings(six_line_endings)\n",
    "\n",
    "        unique_chars = len(six_line_info)\n",
    "        match unique_chars:\n",
    "            case 1:\n",
    "                pass\n",
    "            case 2:\n",
    "                #check if it's AABAAB otherwise pass.\n",
    "                scheme_AABAAB = are_lists_equal(list_indices, [[0,1,3,4], [2,5]])\n",
    "                if scheme_AABAAB:\n",
    "                    rhyme_schemes = add_to_rhyme_schemes(rhyme_schemes, \"AABAAB\", lines[line_index:line_index+4])\n",
    "                    scheme_AABAAB = False\n",
    "                    line_index += 6\n",
    "                    continue\n",
    "                pass\n",
    "                \n",
    "            case 3:\n",
    "                #check if it's AABCCB otherwise pass.\n",
    "                scheme_AABCCB = are_lists_equal(list_indices, [[0,1], [2,5], [3,4]])\n",
    "                if scheme_AABCCB:\n",
    "                    rhyme_schemes = add_to_rhyme_schemes(rhyme_schemes, \"AABCCB\", lines[line_index:line_index+4])\n",
    "                    scheme_AABCCB = False\n",
    "                    line_index += 6\n",
    "                    continue\n",
    "                pass\n",
    "            case 4:\n",
    "                pass\n",
    "            case 5:\n",
    "                #check if it's XXAXXA otherwise pass.\n",
    "                scheme_XXAXXA = are_lists_equal(list_indices, [[0],[1],[2,5], [3],[4]]) \n",
    "                if scheme_XXAXXA:\n",
    "                    rhyme_schemes = add_to_rhyme_schemes(rhyme_schemes, \"XXAXXA\", lines[line_index:line_index+4])\n",
    "                    scheme_XXAXXA = False\n",
    "                    line_index += 6\n",
    "                    continue\n",
    "                pass\n",
    "            case 6:\n",
    "                line_index+=1\n",
    "                continue #no rhyme scheme found.\n",
    "    \n",
    "    \n",
    "    four_line_info, list_indices = analyze_line_endings(four_line_endings)\n",
    "\n",
    "\n",
    "\n",
    "    unique_chars = len(four_line_info)\n",
    "\n",
    "    match unique_chars:\n",
    "        case 1:\n",
    "            rhyme_schemes = add_to_rhyme_schemes(rhyme_schemes, \"AAAA\", lines[line_index:line_index+4])\n",
    "            line_index += 4\n",
    "            continue\n",
    "        case 2:\n",
    "            # can be ABAB, AABB, ABBA,AAXA\n",
    "            scheme_ABAB = are_lists_equal(list_indices, [[0,2],[1,3]])\n",
    "            if scheme_ABAB:\n",
    "                rhyme_schemes = add_to_rhyme_schemes(rhyme_schemes, \"ABAB\", lines[line_index:line_index+4])\n",
    "                scheme_ABAB = False\n",
    "                line_index += 4\n",
    "                continue\n",
    "            \n",
    "            scheme_AABB = are_lists_equal(list_indices, [[0,1], [2,3]])\n",
    "            if scheme_AABB:\n",
    "                rhyme_schemes = add_to_rhyme_schemes(rhyme_schemes, \"AABB\", lines[line_index:line_index+4])\n",
    "                scheme_AABB = False\n",
    "                line_index += 4\n",
    "                continue\n",
    "\n",
    "            scheme_ABBA = are_lists_equal(list_indices, [[0,3], [1,2]])\n",
    "            if scheme_ABBA:\n",
    "                rhyme_schemes = add_to_rhyme_schemes(rhyme_schemes, \"ABBA\", lines[line_index:line_index+4])\n",
    "                scheme_ABBA = False\n",
    "                line_index += 4\n",
    "                continue\n",
    "\n",
    "            scheme_AAXA = are_lists_equal(list_indices, [[0,1,3], [2]])\n",
    "            if scheme_AAXA:\n",
    "                rhyme_schemes = add_to_rhyme_schemes(rhyme_schemes, \"AAXA\", lines[line_index:line_index+4])\n",
    "                scheme_AAXA = False\n",
    "                line_index += 4\n",
    "                continue\n",
    "\n",
    "            pass\n",
    "        case 3:\n",
    "            #can be XAXA, AXXA\n",
    "            scheme_XAXA = are_lists_equal(list_indices, [[0],[1,3],[2]])\n",
    "            if scheme_XAXA:\n",
    "                rhyme_schemes = add_to_rhyme_schemes(rhyme_schemes, \"XAXA\", lines[line_index:line_index+4])\n",
    "                scheme_XAXA = False\n",
    "                line_index += 4\n",
    "                continue\n",
    "            \n",
    "            scheme_AXXA = are_lists_equal(list_indices, [[0,3],[1], [2]])\n",
    "            if scheme_AXXA:\n",
    "                rhyme_schemes = add_to_rhyme_schemes(rhyme_schemes, \"AXXA\", lines[line_index:line_index+4])\n",
    "                scheme_AXXA = False\n",
    "                line_index += 4\n",
    "                continue\n",
    "            pass\n",
    "        case 4:\n",
    "            line_index += 1\n",
    "            continue # no rhyme scheme found\n",
    "    line_index += 1"
   ]
  },
  {
   "cell_type": "code",
   "execution_count": 14,
   "metadata": {},
   "outputs": [],
   "source": [
    "def calculate_rhyming_lines(rhyme_schemes):\n",
    "    rhyming_lines = 0\n",
    "    for k,v in rhyme_schemes.items():\n",
    "        rhyming_lines += len(v) * len(k)\n",
    "    return rhyming_lines"
   ]
  }
 ],
 "metadata": {
  "kernelspec": {
   "display_name": "myenv",
   "language": "python",
   "name": "python3"
  },
  "language_info": {
   "codemirror_mode": {
    "name": "ipython",
    "version": 3
   },
   "file_extension": ".py",
   "mimetype": "text/x-python",
   "name": "python",
   "nbconvert_exporter": "python",
   "pygments_lexer": "ipython3",
   "version": "3.11.9"
  }
 },
 "nbformat": 4,
 "nbformat_minor": 2
}
